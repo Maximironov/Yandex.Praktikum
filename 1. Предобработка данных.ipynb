{
 "cells": [
  {
   "cell_type": "markdown",
   "metadata": {},
   "source": [
    "### Шаг 1. Откройте файл с данными и изучите общую информацию. "
   ]
  },
  {
   "cell_type": "code",
   "execution_count": 2,
   "metadata": {},
   "outputs": [
    {
     "name": "stdout",
     "output_type": "stream",
     "text": [
      "\n"
     ]
    }
   ],
   "source": [
    "import pandas as pd\n",
    "from collections import Counter\n",
    "from nltk.stem import SnowballStemmer \n",
    "russian_stemmer = SnowballStemmer('russian')\n",
    "print()"
   ]
  },
  {
   "cell_type": "markdown",
   "metadata": {},
   "source": [
    "### Вывод"
   ]
  },
  {
   "cell_type": "markdown",
   "metadata": {},
   "source": [
    "Из информации о данных, можно заметить, что days_employed (стаж в днях) должен иметь тип данных int а не float, а также, что <b>days_employed</b> и <b>total_income</b> содержат пропуски, их число одинаковое, поэтому возможно они как-то связаны. С помощью метода head() мы узнали, что <b> days_employed </b> содержат отрицательные значения, чего конечно же быть не должно, <b> education </b> - в разных регистрах. В общем, данные совсем не идеальные. Пробелов в названии столбцов нет - хоть что-то хорошее.\n",
    "\n"
   ]
  },
  {
   "cell_type": "markdown",
   "metadata": {},
   "source": [
    "### Шаг 2. Предобработка данных"
   ]
  },
  {
   "cell_type": "markdown",
   "metadata": {},
   "source": [
    "### Обработка пропусков"
   ]
  },
  {
   "cell_type": "code",
   "execution_count": 899,
   "metadata": {},
   "outputs": [
    {
     "data": {
      "text/plain": [
       "2174"
      ]
     },
     "execution_count": 899,
     "metadata": {},
     "output_type": "execute_result"
    }
   ],
   "source": [
    "#Посчитаем пропуски\n",
    "data['days_employed'].isnull().sum()"
   ]
  },
  {
   "cell_type": "code",
   "execution_count": 3,
   "metadata": {},
   "outputs": [
    {
     "name": "stdout",
     "output_type": "stream",
     "text": [
      "<class 'pandas.core.frame.DataFrame'>\n",
      "Int64Index: 2174 entries, 12 to 21510\n",
      "Data columns (total 12 columns):\n",
      "children            2174 non-null int64\n",
      "days_employed       0 non-null float64\n",
      "dob_years           2174 non-null int64\n",
      "education           2174 non-null object\n",
      "education_id        2174 non-null int64\n",
      "family_status       2174 non-null object\n",
      "family_status_id    2174 non-null int64\n",
      "gender              2174 non-null object\n",
      "income_type         2174 non-null object\n",
      "debt                2174 non-null int64\n",
      "total_income        0 non-null float64\n",
      "purpose             2174 non-null object\n",
      "dtypes: float64(2), int64(5), object(5)\n",
      "memory usage: 220.8+ KB\n"
     ]
    }
   ],
   "source": [
    "data_emply = data[data['days_employed'].isnull() & data['total_income'].isnull()]\n",
    "data_emply.info()\n"
   ]
  },
  {
   "cell_type": "markdown",
   "metadata": {},
   "source": [
    "Мы выяснили, что, действительно, там где пропущено значение <b> 'days_employed' </b> пропущено и значение <b> 'total_income'</b> , можно было бы предположить, что это ещё учащиеся люди, которые никогда не работали, но у них совершенно разный возраст, и у некоторых есть дети. Наверное, какая - то техническая ошибка."
   ]
  },
  {
   "cell_type": "code",
   "execution_count": 901,
   "metadata": {},
   "outputs": [],
   "source": [
    "#Заполним пропуски в days_employed нулями, \n",
    "# а в total_income медианным значением, для людей с таким же образованием, типом занятости и семейным положением\n",
    "data['days_employed'] = data['days_employed'].fillna(0) \n",
    "data['total_income'] = data['total_income'].fillna(0) "
   ]
  },
  {
   "cell_type": "code",
   "execution_count": 4,
   "metadata": {},
   "outputs": [
    {
     "name": "stdout",
     "output_type": "stream",
     "text": [
      "<class 'pandas.core.frame.DataFrame'>\n",
      "RangeIndex: 21525 entries, 0 to 21524\n",
      "Data columns (total 12 columns):\n",
      "children            21525 non-null int64\n",
      "days_employed       19351 non-null float64\n",
      "dob_years           21525 non-null int64\n",
      "education           21525 non-null object\n",
      "education_id        21525 non-null int64\n",
      "family_status       21525 non-null object\n",
      "family_status_id    21525 non-null int64\n",
      "gender              21525 non-null object\n",
      "income_type         21525 non-null object\n",
      "debt                21525 non-null int64\n",
      "total_income        21525 non-null float64\n",
      "purpose             21525 non-null object\n",
      "dtypes: float64(2), int64(5), object(5)\n",
      "memory usage: 2.0+ MB\n"
     ]
    }
   ],
   "source": [
    "data['total_income'] = data.groupby('income_type')['total_income'].transform(lambda x: x.fillna(x.median()))\n",
    "data.info()"
   ]
  },
  {
   "cell_type": "markdown",
   "metadata": {},
   "source": [
    "### Вывод"
   ]
  },
  {
   "cell_type": "markdown",
   "metadata": {},
   "source": [
    "При просмотре информации выяснилось. что в датасете 2174 пропуск в 'days_employed' и в 'total_income'. Мы выяснили, что эти пропуски взаимосвязаны, там где есть один, есть и другой. Мы заполнили Nan-ы в days_employed нулями, а в total_income - медианным значением, среди людей, с таким же образованием, семейным положением и типом занятости."
   ]
  },
  {
   "cell_type": "markdown",
   "metadata": {},
   "source": [
    "<h3>Найдём и исправим некоторые другие проблемы данных: </h3>"
   ]
  },
  {
   "cell_type": "markdown",
   "metadata": {},
   "source": [
    "Начнём с регистров, просмотрим столбцы, где могут встретиться подобные ошибки:"
   ]
  },
  {
   "cell_type": "code",
   "execution_count": 903,
   "metadata": {
    "scrolled": true
   },
   "outputs": [
    {
     "name": "stdout",
     "output_type": "stream",
     "text": [
      "['женат / замужем' 'гражданский брак' 'вдовец / вдова' 'в разводе'\n",
      " 'Не женат / не замужем']\n",
      "['высшее' 'среднее' 'Среднее' 'СРЕДНЕЕ' 'ВЫСШЕЕ' 'неоконченное высшее'\n",
      " 'начальное' 'Высшее' 'НЕОКОНЧЕННОЕ ВЫСШЕЕ' 'Неоконченное высшее'\n",
      " 'НАЧАЛЬНОЕ' 'Начальное' 'Ученая степень' 'УЧЕНАЯ СТЕПЕНЬ'\n",
      " 'ученая степень']\n",
      "['сотрудник' 'пенсионер' 'компаньон' 'госслужащий' 'безработный'\n",
      " 'предприниматель' 'студент' 'в декрете']\n"
     ]
    }
   ],
   "source": [
    "#Проверим, только ли в 'education' проблемы с регистром\n",
    "print(data['family_status'].unique())\n",
    "print(data['education'].unique())\n",
    "print(data['income_type'].unique())"
   ]
  },
  {
   "cell_type": "markdown",
   "metadata": {},
   "source": [
    "Проблемы есть только в education, переведём его в нижний регистр и проверим результат:"
   ]
  },
  {
   "cell_type": "code",
   "execution_count": 904,
   "metadata": {},
   "outputs": [
    {
     "data": {
      "text/plain": [
       "array(['высшее', 'среднее', 'неоконченное высшее', 'начальное',\n",
       "       'ученая степень'], dtype=object)"
      ]
     },
     "execution_count": 904,
     "metadata": {},
     "output_type": "execute_result"
    }
   ],
   "source": [
    "data['education'] = data['education'].str.lower()\n",
    "data['education'].unique()"
   ]
  },
  {
   "cell_type": "code",
   "execution_count": 905,
   "metadata": {},
   "outputs": [
    {
     "data": {
      "text/plain": [
       "children                               -1\n",
       "days_employed                    -18388.9\n",
       "dob_years                               0\n",
       "education                          высшее\n",
       "education_id                            0\n",
       "family_status       Не женат / не замужем\n",
       "family_status_id                        0\n",
       "gender                                  F\n",
       "income_type                   безработный\n",
       "debt                                    0\n",
       "total_income                            0\n",
       "purpose                        автомобили\n",
       "dtype: object"
      ]
     },
     "execution_count": 905,
     "metadata": {},
     "output_type": "execute_result"
    }
   ],
   "source": [
    "data.min()"
   ]
  },
  {
   "cell_type": "markdown",
   "metadata": {},
   "source": [
    "Посмотрим на отрицательных детей и отрицательные зарплаты, и исправим их на их модули, также посмотрим на людей, которым 0 лет и удалим их из таблицы, "
   ]
  },
  {
   "cell_type": "code",
   "execution_count": 906,
   "metadata": {},
   "outputs": [
    {
     "name": "stdout",
     "output_type": "stream",
     "text": [
      "строк с отрицательными детьми - 47\n",
      "строк с отрицательным стажем - 15906\n",
      "строк со значением возраста равным 0 - 101\n"
     ]
    },
    {
     "data": {
      "text/plain": [
       "children                                0\n",
       "days_employed                           0\n",
       "dob_years                              19\n",
       "education                          высшее\n",
       "education_id                            0\n",
       "family_status       Не женат / не замужем\n",
       "family_status_id                        0\n",
       "gender                                  F\n",
       "income_type                   безработный\n",
       "debt                                    0\n",
       "total_income                            0\n",
       "purpose                        автомобили\n",
       "dtype: object"
      ]
     },
     "execution_count": 906,
     "metadata": {},
     "output_type": "execute_result"
    }
   ],
   "source": [
    "problem_negative_children = data[ data['children'] < 0]\n",
    "print('строк с отрицательными детьми -',problem_negative_children['children'].count())\n",
    "data['children'] = abs(data['children'])\n",
    "problem_negative_employed = data[ data['days_employed'] < 0]\n",
    "print('строк с отрицательным стажем -',problem_negative_employed['days_employed'].count())\n",
    "data['days_employed'] = abs(data['days_employed'])\n",
    "low_years = data[data['dob_years'] ==0]\n",
    "print('строк со значением возраста равным 0 -',low_years['dob_years'].count())\n",
    "data = data[data['dob_years'] > 0]\n",
    "#Проверим результат\n",
    "data.min()"
   ]
  },
  {
   "cell_type": "code",
   "execution_count": 907,
   "metadata": {},
   "outputs": [
    {
     "data": {
      "text/plain": [
       "children                         20\n",
       "days_employed                401755\n",
       "dob_years                        75\n",
       "education            ученая степень\n",
       "education_id                      4\n",
       "family_status       женат / замужем\n",
       "family_status_id                  4\n",
       "gender                          XNA\n",
       "income_type                 студент\n",
       "debt                              1\n",
       "total_income             2.2656e+06\n",
       "purpose             сыграть свадьбу\n",
       "dtype: object"
      ]
     },
     "execution_count": 907,
     "metadata": {},
     "output_type": "execute_result"
    }
   ],
   "source": [
    "data.max()"
   ]
  },
  {
   "cell_type": "markdown",
   "metadata": {},
   "source": [
    "Заметим, подозрительные строки: 20 детей, 1100 лет рабочего стажа и гендер - XNA (я загуглил, нет такого гендера). Проверим их"
   ]
  },
  {
   "cell_type": "code",
   "execution_count": 908,
   "metadata": {},
   "outputs": [
    {
     "name": "stdout",
     "output_type": "stream",
     "text": [
      "Counter({'F': 14164, 'M': 7259, 'XNA': 1})\n",
      "<class 'pandas.core.frame.DataFrame'>\n",
      "Int64Index: 21423 entries, 0 to 21524\n",
      "Data columns (total 12 columns):\n",
      "children            21423 non-null int64\n",
      "days_employed       21423 non-null float64\n",
      "dob_years           21423 non-null int64\n",
      "education           21423 non-null object\n",
      "education_id        21423 non-null int64\n",
      "family_status       21423 non-null object\n",
      "family_status_id    21423 non-null int64\n",
      "gender              21423 non-null object\n",
      "income_type         21423 non-null object\n",
      "debt                21423 non-null int64\n",
      "total_income        21423 non-null float64\n",
      "purpose             21423 non-null object\n",
      "dtypes: float64(2), int64(5), object(5)\n",
      "memory usage: 2.1+ MB\n"
     ]
    }
   ],
   "source": [
    "print(Counter(data['gender']))\n",
    "data = data[data['gender'] !='XNA']\n",
    "#человек с таким гендером оказался 1, поскольку имени или другой идентифицирующей информации у нас нет удалим его из базы\n",
    "data.info()"
   ]
  },
  {
   "cell_type": "code",
   "execution_count": 5,
   "metadata": {},
   "outputs": [
    {
     "name": "stdout",
     "output_type": "stream",
     "text": [
      "<class 'pandas.core.frame.DataFrame'>\n",
      "Int64Index: 3445 entries, 4 to 21521\n",
      "Data columns (total 12 columns):\n",
      "children            3445 non-null int64\n",
      "days_employed       3445 non-null float64\n",
      "dob_years           3445 non-null int64\n",
      "education           3445 non-null object\n",
      "education_id        3445 non-null int64\n",
      "family_status       3445 non-null object\n",
      "family_status_id    3445 non-null int64\n",
      "gender              3445 non-null object\n",
      "income_type         3445 non-null object\n",
      "debt                3445 non-null int64\n",
      "total_income        3445 non-null float64\n",
      "purpose             3445 non-null object\n",
      "dtypes: float64(2), int64(5), object(5)\n",
      "memory usage: 349.9+ KB\n"
     ]
    }
   ],
   "source": [
    "#Узнаем сколько всего человек, у которых стаж больше возраста и посмотрим на них\n",
    "data[data['days_employed']/365 > data['dob_years']].info()\n"
   ]
  },
  {
   "cell_type": "markdown",
   "metadata": {},
   "source": [
    "Как видно, все пенсионеры, выясним, так ли это:"
   ]
  },
  {
   "cell_type": "code",
   "execution_count": 910,
   "metadata": {},
   "outputs": [
    {
     "name": "stdout",
     "output_type": "stream",
     "text": [
      "Всего пенсионеров: 3836\n",
      "Пенсионеров, у которых стаж больше возраста: 3426\n",
      "Пенсионеров, у которых стаж равен нулю: 410\n"
     ]
    }
   ],
   "source": [
    "#retirees - пенсионеры\n",
    "retirees = data[data['income_type'] == 'пенсионер'] \n",
    "print('Всего пенсионеров:',retirees['income_type'].count()) #3836\n",
    "retirees_with_problem1 = retirees[ retirees['days_employed']/365 >= retirees['dob_years']] #3426\n",
    "print('Пенсионеров, у которых стаж больше возраста:',retirees_with_problem1['income_type'].count()) \n",
    "retirees_with_problem2 = retirees [retirees['days_employed'] == 0] \n",
    "print('Пенсионеров, у которых стаж равен нулю:',retirees_with_problem2['income_type'].count()) "
   ]
  },
  {
   "cell_type": "markdown",
   "metadata": {},
   "source": [
    "Получилось, что из 3836 пенсионеров у 3446 стаж работы больше чем возраст, а у  410 стаж равен нулю. Никуда конечно не привели нас эти размышления, но зависимость интересная, ни одной строчки без ошибки у пенсионеров."
   ]
  },
  {
   "cell_type": "markdown",
   "metadata": {},
   "source": [
    "C 20-ю детьми я думаю возникла опечатка, заменим 20 на 2 и проверим результат:"
   ]
  },
  {
   "cell_type": "code",
   "execution_count": 911,
   "metadata": {},
   "outputs": [
    {
     "name": "stdout",
     "output_type": "stream",
     "text": [
      "До: Counter({0: 14079, 1: 4849, 2: 2042, 3: 328, 20: 75, 4: 41, 5: 9})\n",
      "После: Counter({0: 14079, 1: 4849, 2: 2117, 3: 328, 4: 41, 5: 9})\n"
     ]
    }
   ],
   "source": [
    "print('До:',Counter(data['children']))\n",
    "data['children'] = data['children'].replace(20,2)\n",
    "print('После:',Counter(data['children']))"
   ]
  },
  {
   "cell_type": "markdown",
   "metadata": {},
   "source": [
    "### Изменение типа данных"
   ]
  },
  {
   "cell_type": "markdown",
   "metadata": {},
   "source": [
    "Значения столбцов зарплаты и стажа трудовых дней заменим на целочисленные и проверим:"
   ]
  },
  {
   "cell_type": "code",
   "execution_count": 912,
   "metadata": {},
   "outputs": [
    {
     "name": "stdout",
     "output_type": "stream",
     "text": [
      "<class 'pandas.core.frame.DataFrame'>\n",
      "Int64Index: 21423 entries, 0 to 21524\n",
      "Data columns (total 12 columns):\n",
      "children            21423 non-null int64\n",
      "days_employed       21423 non-null int64\n",
      "dob_years           21423 non-null int64\n",
      "education           21423 non-null object\n",
      "education_id        21423 non-null int64\n",
      "family_status       21423 non-null object\n",
      "family_status_id    21423 non-null int64\n",
      "gender              21423 non-null object\n",
      "income_type         21423 non-null object\n",
      "debt                21423 non-null int64\n",
      "total_income        21423 non-null int64\n",
      "purpose             21423 non-null object\n",
      "dtypes: int64(7), object(5)\n",
      "memory usage: 2.1+ MB\n"
     ]
    }
   ],
   "source": [
    "data['days_employed'] = data['days_employed'].astype('int')\n",
    "data['total_income'] = data['total_income'].astype('int')\n",
    "data.info()"
   ]
  },
  {
   "cell_type": "markdown",
   "metadata": {},
   "source": [
    "### Вывод"
   ]
  },
  {
   "cell_type": "markdown",
   "metadata": {},
   "source": [
    "Как было сказано в начале, столбец <b>'days_employed'</b> - стаж в днях, должен быть целочисленным, мы привели его к целочисленному виду методом astype() с аргументом 'int', потому что это единственный изученный метод, позволяющий преобразовывать вещественный тип в целочисленный. Методом info() проверили, что всё прошло удачно. "
   ]
  },
  {
   "cell_type": "markdown",
   "metadata": {},
   "source": [
    "### Обработка дубликатов"
   ]
  },
  {
   "cell_type": "code",
   "execution_count": 913,
   "metadata": {},
   "outputs": [
    {
     "name": "stdout",
     "output_type": "stream",
     "text": [
      "      children  days_employed  dob_years education  education_id  \\\n",
      "2849         0              0         41   среднее             1   \n",
      "3290         0              0         58   среднее             1   \n",
      "4182         1              0         34    высшее             0   \n",
      "4851         0              0         60   среднее             1   \n",
      "5557         0              0         58   среднее             1   \n",
      "\n",
      "         family_status  family_status_id gender income_type  debt  \\\n",
      "2849   женат / замужем                 0      F   сотрудник     0   \n",
      "3290  гражданский брак                 1      F   пенсионер     0   \n",
      "4182  гражданский брак                 1      F   сотрудник     0   \n",
      "4851  гражданский брак                 1      F   пенсионер     0   \n",
      "5557  гражданский брак                 1      F   пенсионер     0   \n",
      "\n",
      "      total_income                  purpose  \n",
      "2849        128132  покупка жилья для семьи  \n",
      "3290        104903          сыграть свадьбу  \n",
      "4182        150897                  свадьба  \n",
      "4851        104903                  свадьба  \n",
      "5557        104903          сыграть свадьбу  \n",
      "Кол-во дубликатов: 71\n",
      "Дубликатов, с нарущенным days_employed : 71\n",
      "Проверка: дубликатов после удаления: 0\n"
     ]
    }
   ],
   "source": [
    "#Посмотрим на таблицу дубликатов, чтобы выявить общие тенденции и понять с чем может быть связано их образование:\n",
    "duplicates = data[data.duplicated()]\n",
    "print(duplicates.head(5))\n",
    "#посчитаем кол-во дубликатов методом duplicated() с методом sum() и выведем его:\n",
    "print('Кол-во дубликатов:' ,data.duplicated().sum())\n",
    "#Посчитаем дубликаты с ошибкой в days_employed\n",
    "dub_null = duplicates[duplicates['days_employed'] == 0]['days_employed'].count()\n",
    "print('Дубликатов, с нарущенным days_employed :',dub_null)\n",
    "#Удалим дубликаты методом drop_duplicates() с методом перерасчёта индексов после удаления reset_index(drop = True)\n",
    "data = data.drop_duplicates().reset_index(drop = True)\n",
    "print('Проверка: дубликатов после удаления:' ,data.duplicated().sum())"
   ]
  },
  {
   "cell_type": "markdown",
   "metadata": {},
   "source": [
    "### Вывод"
   ]
  },
  {
   "cell_type": "markdown",
   "metadata": {},
   "source": [
    "Дубликатов оказалось не очень много, всего 71, но у всех у них изначально была ошибка в столбце total_income, обычно дубликаты появляются из-за технических ошибок.\n"
   ]
  },
  {
   "cell_type": "markdown",
   "metadata": {},
   "source": [
    "### Лемматизация"
   ]
  },
  {
   "cell_type": "code",
   "execution_count": 914,
   "metadata": {
    "scrolled": true
   },
   "outputs": [
    {
     "name": "stdout",
     "output_type": "stream",
     "text": [
      "   children  days_employed  dob_years education  education_id  \\\n",
      "0         1           8437         42    высшее             0   \n",
      "1         1           4024         36   среднее             1   \n",
      "2         0           5623         33   среднее             1   \n",
      "3         3           4124         32   среднее             1   \n",
      "4         0         340266         53   среднее             1   \n",
      "\n",
      "      family_status  family_status_id gender income_type  debt  total_income  \\\n",
      "0   женат / замужем                 0      F   сотрудник     0        253875   \n",
      "1   женат / замужем                 0      F   сотрудник     0        112080   \n",
      "2   женат / замужем                 0      M   сотрудник     0        145885   \n",
      "3   женат / замужем                 0      M   сотрудник     0        267628   \n",
      "4  гражданский брак                 1      F   пенсионер     0        158616   \n",
      "\n",
      "                      purpose                 lem_purpose  \n",
      "0               покупка жилья               покупка жилье  \n",
      "1     приобретение автомобиля     приобретение автомобиль  \n",
      "2               покупка жилья               покупка жилье  \n",
      "3  дополнительное образование  дополнительный образование  \n",
      "4             сыграть свадьбу             сыграть свадьба  \n"
     ]
    },
    {
     "data": {
      "text/plain": [
       "<bound method Counter.most_common of Counter({'автомобиль': 966, 'свадьба': 786, 'на проведение свадьба': 764, 'сыграть свадьба': 760, 'операция с недвижимость': 672, 'покупка коммерческий недвижимость': 658, 'покупка жилье для сдача': 649, 'операция с коммерческий недвижимость': 648, 'операция с жилье': 646, 'покупка жилье': 640, 'жилье': 640, 'покупка жилье для семья': 637, 'строительство собственный недвижимость': 633, 'недвижимость': 629, 'операция со свой недвижимость': 627, 'строительство жилой недвижимость': 621, 'строительство недвижимость': 619, 'покупка свой жилье': 619, 'покупка недвижимость': 617, 'ремонт жилье': 605, 'покупка жилой недвижимость': 603, 'на покупка свой автомобиль': 502, 'заниматься высокий образование': 493, 'сделка с подержанный автомобиль': 484, 'на покупка подержать автомобиль': 478, 'свой автомобиль': 475, 'на покупка автомобиль': 466, 'приобретение автомобиль': 459, 'дополнительный образование': 458, 'сделка с автомобиль': 454, 'высокий образование': 449, 'образование': 444, 'получение дополнительный образование': 444, 'получение образование': 441, 'профильный образование': 435, 'получение высокий образование': 424, 'заниматься образование': 407})>"
      ]
     },
     "execution_count": 914,
     "metadata": {},
     "output_type": "execute_result"
    }
   ],
   "source": [
    "# Импортруем всё что нужно для успешной лемматизации\n",
    "from pymystem3 import Mystem\n",
    "m = Mystem()\n",
    "# Напишем функцию, для лемматизации\n",
    "def create_good_lemma(row):\n",
    "    purpose = row['purpose']\n",
    "    lemma = ''.join(m.lemmatize(purpose))\n",
    "    lemma = lemma.replace(\"\\n\",\"\")\n",
    "    return lemma\n",
    "# Применим функцию и посмотрим на результат, а также на самые популярные цели кредита\n",
    "data['lem_purpose'] = data.apply (create_good_lemma, axis =1)\n",
    "print(data.head())\n",
    "Counter(data['lem_purpose']).most_common"
   ]
  },
  {
   "cell_type": "markdown",
   "metadata": {},
   "source": [
    "### Вывод"
   ]
  },
  {
   "cell_type": "markdown",
   "metadata": {},
   "source": [
    "Мы провели лемматизацию с помощью пакета pymystem3, создав функцию, которая приводит слова в начальную форму и удаляет символ '\\n', применив эту функцию построчно и добавив в новый столбец lem_purpose леммы, мы посмотрели на самые популярные цели кредита, ими оказались: покупка автомобиля, проведение свадьбы, покупка жилья и образование."
   ]
  },
  {
   "cell_type": "markdown",
   "metadata": {},
   "source": [
    "### Категоризация данных"
   ]
  },
  {
   "cell_type": "code",
   "execution_count": 915,
   "metadata": {},
   "outputs": [],
   "source": [
    "# Сделаемc сводную таблицу по количеству детей и возврату долга\n",
    "children_pivot_table = data.groupby(['debt', 'children'])['gender'].aggregate('count').unstack()\n",
    "# Сделаемc сводную таблицу по семейному статусу и возрату долга\n",
    "fam_stat_pivot_tab = data.groupby(['debt', 'family_status'])['gender'].aggregate('count').unstack()"
   ]
  },
  {
   "cell_type": "code",
   "execution_count": 916,
   "metadata": {},
   "outputs": [
    {
     "data": {
      "text/html": [
       "<div>\n",
       "<style scoped>\n",
       "    .dataframe tbody tr th:only-of-type {\n",
       "        vertical-align: middle;\n",
       "    }\n",
       "\n",
       "    .dataframe tbody tr th {\n",
       "        vertical-align: top;\n",
       "    }\n",
       "\n",
       "    .dataframe thead th {\n",
       "        text-align: right;\n",
       "    }\n",
       "</style>\n",
       "<table border=\"1\" class=\"dataframe\">\n",
       "  <thead>\n",
       "    <tr style=\"text-align: right;\">\n",
       "      <th>income_group</th>\n",
       "      <th>Доход выше среднего</th>\n",
       "      <th>Доход ниже МРОТа</th>\n",
       "      <th>Доход ниже среднего</th>\n",
       "      <th>Доход очень сильно выше среднего</th>\n",
       "      <th>Доход сильно выше среднего</th>\n",
       "    </tr>\n",
       "    <tr>\n",
       "      <th>debt</th>\n",
       "      <th></th>\n",
       "      <th></th>\n",
       "      <th></th>\n",
       "      <th></th>\n",
       "      <th></th>\n",
       "    </tr>\n",
       "  </thead>\n",
       "  <tbody>\n",
       "    <tr>\n",
       "      <td>0</td>\n",
       "      <td>15737.0</td>\n",
       "      <td>2.0</td>\n",
       "      <td>186.0</td>\n",
       "      <td>339.0</td>\n",
       "      <td>3355.0</td>\n",
       "    </tr>\n",
       "    <tr>\n",
       "      <td>1</td>\n",
       "      <td>1439.0</td>\n",
       "      <td>NaN</td>\n",
       "      <td>13.0</td>\n",
       "      <td>22.0</td>\n",
       "      <td>259.0</td>\n",
       "    </tr>\n",
       "  </tbody>\n",
       "</table>\n",
       "</div>"
      ],
      "text/plain": [
       "income_group  Доход выше среднего  Доход ниже МРОТа  Доход ниже среднего  \\\n",
       "debt                                                                       \n",
       "0                         15737.0               2.0                186.0   \n",
       "1                          1439.0               NaN                 13.0   \n",
       "\n",
       "income_group  Доход очень сильно выше среднего  Доход сильно выше среднего  \n",
       "debt                                                                        \n",
       "0                                        339.0                      3355.0  \n",
       "1                                         22.0                       259.0  "
      ]
     },
     "execution_count": 916,
     "metadata": {},
     "output_type": "execute_result"
    }
   ],
   "source": [
    "# Категоризируем по уровню заработка\n",
    "MROT = 12130\n",
    "average_income = 44076\n",
    "def income_group(income):\n",
    "    if income < MROT:\n",
    "        return 'Доход ниже МРОТа'\n",
    "    elif income > 10 * average_income:\n",
    "        return 'Доход очень сильно выше среднего'\n",
    "    elif income > 5 * average_income:\n",
    "        return 'Доход сильно выше среднего'\n",
    "    elif income > average_income:\n",
    "        return 'Доход выше среднего'\n",
    "    else:\n",
    "        return 'Доход ниже среднего'\n",
    "data['income_group'] = data['total_income'].apply(income_group)\n",
    "data['income_group'].value_counts()\n",
    "\n",
    "income_pivot_table = data.groupby(['debt', 'income_group'])['gender'].aggregate('count').unstack()\n",
    "income_pivot_table"
   ]
  },
  {
   "cell_type": "markdown",
   "metadata": {},
   "source": [
    "### Вывод"
   ]
  },
  {
   "cell_type": "markdown",
   "metadata": {},
   "source": [
    "Мы сделали 2 сводные таблицы отражающие зависимость мужду наличием детей и возвратом кредита в срок и зависимость между семейным статусом и возвратом кредита в срок. Также разделили всех заёмщиков на категории по доходу, и сделали для них сводную таблицу, выражающую зависимость между доходом и возвратом кредита в срок. Ни одного человека с доходом ниже МРОТа не обнаружено."
   ]
  },
  {
   "cell_type": "markdown",
   "metadata": {},
   "source": [
    "### Шаг 3. Ответьте на вопросы"
   ]
  },
  {
   "cell_type": "markdown",
   "metadata": {},
   "source": [
    "- Есть ли зависимость между наличием детей и возвратом кредита в срок?"
   ]
  },
  {
   "cell_type": "code",
   "execution_count": 917,
   "metadata": {},
   "outputs": [
    {
     "name": "stdout",
     "output_type": "stream",
     "text": [
      "children        0       1       2      3     4    5\n",
      "debt                                               \n",
      "0         12963.0  4397.0  1912.0  301.0  37.0  9.0\n",
      "1          1058.0   442.0   202.0   27.0   4.0  NaN\n",
      "\n",
      "Процент людей, не имеющих задолжности:\n",
      "Для людей без детей: 0.925\n",
      "Для людей с 1 ребёнком: 0.909\n",
      "Для людей с 2 детьми: 0.904\n",
      "Для людей с 3 детьми: 0.918\n",
      "Для людей с 4 детьми: 0.902\n",
      "Для людей с 5 детьми: 1.000\n"
     ]
    }
   ],
   "source": [
    "# Распечатаем сводную таблицу\n",
    "print(children_pivot_table)\n",
    "# Посчитаем процент возврата для каждого случая\n",
    "for_0_children = children_pivot_table[0][0] / children_pivot_table[0].sum() \n",
    "for_1_children = children_pivot_table[1][0] / children_pivot_table[1].sum() \n",
    "for_2_children = children_pivot_table[2][0] / children_pivot_table[2].sum() \n",
    "for_3_children = children_pivot_table[3][0] / children_pivot_table[3].sum() \n",
    "for_4_children = children_pivot_table[4][0] / children_pivot_table[4].sum() \n",
    "for_5_children = children_pivot_table[5][0] / children_pivot_table[5].sum() \n",
    "# Выведем результат\n",
    "print ()\n",
    "print('Процент людей, не имеющих задолжности:')\n",
    "print('Для людей без детей: {:.3f}'.format(for_0_children))\n",
    "print('Для людей с 1 ребёнком: {:.3f}'.format(for_1_children))\n",
    "print('Для людей с 2 детьми: {:.3f}'.format(for_2_children))\n",
    "print('Для людей с 3 детьми: {:.3f}'.format(for_3_children))\n",
    "print('Для людей с 4 детьми: {:.3f}'.format(for_4_children))\n",
    "print('Для людей с 5 детьми: {:.3f}'.format(for_5_children))"
   ]
  },
  {
   "cell_type": "markdown",
   "metadata": {},
   "source": [
    "### Вывод"
   ]
  },
  {
   "cell_type": "markdown",
   "metadata": {},
   "source": [
    "Семьи без детей чаще возвращают долги, чем семьи с детьми. Семьи с 3я детьми возвращают долги чаще, чем семьи с 1,2 или 4-мя детьми. Для семей с 5-ю детьми вероятность погашения - 100%, но там слишком узкая выборка (9 человек) и судить по ней думаю некорректно, но результат получился контринтуитивным.\n"
   ]
  },
  {
   "cell_type": "markdown",
   "metadata": {},
   "source": [
    "- Есть ли зависимость между семейным положением и возвратом кредита в срок?"
   ]
  },
  {
   "cell_type": "code",
   "execution_count": 918,
   "metadata": {},
   "outputs": [
    {
     "name": "stdout",
     "output_type": "stream",
     "text": [
      "family_status  Не женат / не замужем  в разводе  вдовец / вдова  \\\n",
      "debt                                                              \n",
      "0                               2521       1100             892   \n",
      "1                                273         85              62   \n",
      "\n",
      "family_status  гражданский брак  женат / замужем  \n",
      "debt                                              \n",
      "0                          3743            11363  \n",
      "1                           386              927  \n",
      "\n",
      "Процент людей, не имеющих задолжности:\n",
      "Для неженатых людей: 0.902\n",
      "Для людей в разводе: 0.928\n",
      "Для вдов и вдовцов: 0.935\n",
      "Для людей, состоящих в гражданском браке: 0.907\n",
      "Для женатых людей: 0.925\n"
     ]
    }
   ],
   "source": [
    "# Распечатаем сводную таблицу:\n",
    "print(fam_stat_pivot_tab)\n",
    "# Посчитаем процент возврата для каждого случая:\n",
    "for_0_fam_stat = fam_stat_pivot_tab['Не женат / не замужем'][0] / fam_stat_pivot_tab['Не женат / не замужем'].sum() \n",
    "for_1_fam_stat = fam_stat_pivot_tab['в разводе'][0] / fam_stat_pivot_tab['в разводе'].sum() \n",
    "for_2_fam_stat = fam_stat_pivot_tab['вдовец / вдова'][0] / fam_stat_pivot_tab['вдовец / вдова'].sum() \n",
    "for_3_fam_stat = fam_stat_pivot_tab['гражданский брак'][0] / fam_stat_pivot_tab['гражданский брак'].sum() \n",
    "for_4_fam_stat = fam_stat_pivot_tab['женат / замужем'][0] / fam_stat_pivot_tab['женат / замужем'].sum() \n",
    "# Выведем результат:\n",
    "print ()\n",
    "print('Процент людей, не имеющих задолжности:')\n",
    "print('Для неженатых людей: {:.3f}'.format(for_0_fam_stat))\n",
    "print('Для людей в разводе: {:.3f}'.format(for_1_fam_stat))\n",
    "print('Для вдов и вдовцов: {:.3f}'.format(for_2_fam_stat))\n",
    "print('Для людей, состоящих в гражданском браке: {:.3f}'.format(for_3_fam_stat))\n",
    "print('Для женатых людей: {:.3f}'.format(for_4_fam_stat))"
   ]
  },
  {
   "cell_type": "markdown",
   "metadata": {},
   "source": [
    "### Вывод"
   ]
  },
  {
   "cell_type": "markdown",
   "metadata": {},
   "source": [
    "Вдовцы и вдовы чаще остальных возвращают долги, а неженатые - делают это реже всех. Люди в разводе возвращают почти также часто, как и женатые люди, а люди в гражданском браке почти также редко, как и неженатые."
   ]
  },
  {
   "cell_type": "markdown",
   "metadata": {},
   "source": [
    "- Есть ли зависимость между уровнем дохода и возвратом кредита в срок?"
   ]
  },
  {
   "cell_type": "code",
   "execution_count": 919,
   "metadata": {},
   "outputs": [
    {
     "name": "stdout",
     "output_type": "stream",
     "text": [
      "income_group  Доход выше среднего  Доход ниже МРОТа  Доход ниже среднего  \\\n",
      "debt                                                                       \n",
      "0                         15737.0               2.0                186.0   \n",
      "1                          1439.0               NaN                 13.0   \n",
      "\n",
      "income_group  Доход очень сильно выше среднего  Доход сильно выше среднего  \n",
      "debt                                                                        \n",
      "0                                        339.0                      3355.0  \n",
      "1                                         22.0                       259.0  \n",
      "\n",
      "Процент людей, не имеющих задолжности:\n",
      "Для людей, чей доход выше среднего: 0.916\n",
      "Для людей, чей доход ниже среднего: 0.935\n",
      "Для людей, чей доход очень сильно выше среднего (в 10 и более раз): 0.939\n",
      "Для людей, чей доход выше среднего (в 5-10 раз): 0.928\n"
     ]
    }
   ],
   "source": [
    "print(income_pivot_table)\n",
    "for_1_income = income_pivot_table['Доход выше среднего'][0] / income_pivot_table['Доход выше среднего'].sum() \n",
    "for_2_income = income_pivot_table['Доход ниже среднего'][0] / income_pivot_table['Доход ниже среднего'].sum() \n",
    "for_3_income = income_pivot_table['Доход очень сильно выше среднего'][0] / income_pivot_table['Доход очень сильно выше среднего'].sum() \n",
    "for_4_income = income_pivot_table['Доход сильно выше среднего'][0] / income_pivot_table['Доход сильно выше среднего'].sum() \n",
    "print ()\n",
    "print('Процент людей, не имеющих задолжности:')\n",
    "print('Для людей, чей доход выше среднего: {:.3f}'.format(for_1_income))\n",
    "print('Для людей, чей доход ниже среднего: {:.3f}'.format(for_2_income))\n",
    "print('Для людей, чей доход очень сильно выше среднего (в 10 и более раз): {:.3f}'.format(for_3_income))\n",
    "print('Для людей, чей доход выше среднего (в 5-10 раз): {:.3f}'.format(for_4_income))"
   ]
  },
  {
   "cell_type": "markdown",
   "metadata": {},
   "source": [
    "### Вывод"
   ]
  },
  {
   "cell_type": "markdown",
   "metadata": {},
   "source": [
    "Вероятность того, что долг будет погашен у людей, чей доход превышает средний заработок в 10 и более раз - наиболе, - наиболее велика, что и неудивительно. Что странно, так это то, что у людей, с доходом ниже среднего вероятность выше, чем у людей с доходом выше среднего, но там и выборка ЗНАЧИТЕЛЬНО меньше."
   ]
  },
  {
   "cell_type": "markdown",
   "metadata": {},
   "source": [
    "- Как разные цели кредита влияют на его возврат в срок?"
   ]
  },
  {
   "cell_type": "markdown",
   "metadata": {},
   "source": [
    "Поскольку у всех цели кредита можно разделить на: <b> автомобиль, свадьба, недвижимость и образование </b>. Выделим эти слова из лемм в столбце new_purpose и создадим ещё 1 слов, разделив всех заёмщиков на 4 категории."
   ]
  },
  {
   "cell_type": "code",
   "execution_count": 927,
   "metadata": {},
   "outputs": [
    {
     "data": {
      "text/html": [
       "<div>\n",
       "<style scoped>\n",
       "    .dataframe tbody tr th:only-of-type {\n",
       "        vertical-align: middle;\n",
       "    }\n",
       "\n",
       "    .dataframe tbody tr th {\n",
       "        vertical-align: top;\n",
       "    }\n",
       "\n",
       "    .dataframe thead th {\n",
       "        text-align: right;\n",
       "    }\n",
       "</style>\n",
       "<table border=\"1\" class=\"dataframe\">\n",
       "  <thead>\n",
       "    <tr style=\"text-align: right;\">\n",
       "      <th>main_word_purpose</th>\n",
       "      <th>автомобиль</th>\n",
       "      <th>недвижмость</th>\n",
       "      <th>образование</th>\n",
       "      <th>свадьба</th>\n",
       "    </tr>\n",
       "    <tr>\n",
       "      <th>debt</th>\n",
       "      <th></th>\n",
       "      <th></th>\n",
       "      <th></th>\n",
       "      <th></th>\n",
       "    </tr>\n",
       "  </thead>\n",
       "  <tbody>\n",
       "    <tr>\n",
       "      <td>0</td>\n",
       "      <td>3884</td>\n",
       "      <td>9984</td>\n",
       "      <td>3625</td>\n",
       "      <td>2126</td>\n",
       "    </tr>\n",
       "    <tr>\n",
       "      <td>1</td>\n",
       "      <td>400</td>\n",
       "      <td>779</td>\n",
       "      <td>370</td>\n",
       "      <td>184</td>\n",
       "    </tr>\n",
       "  </tbody>\n",
       "</table>\n",
       "</div>"
      ],
      "text/plain": [
       "main_word_purpose  автомобиль  недвижмость  образование  свадьба\n",
       "debt                                                            \n",
       "0                        3884         9984         3625     2126\n",
       "1                         400          779          370      184"
      ]
     },
     "execution_count": 927,
     "metadata": {},
     "output_type": "execute_result"
    }
   ],
   "source": [
    "def create_main_word(row):\n",
    "    word = row['lem_purpose']\n",
    "    if 'свадьба' in word:\n",
    "        return 'свадьба'\n",
    "    elif 'автомобиль' in word:\n",
    "        return 'автомобиль'\n",
    "    elif 'образование' in word:\n",
    "        return 'образование'\n",
    "    else:\n",
    "        return 'недвижмость'\n",
    "\n",
    "data['main_word_purpose'] = data.apply(create_main_word, axis =1)\n",
    "purpose_pivot_table = data.groupby(['debt', 'main_word_purpose'])['gender'].aggregate('count').unstack()\n",
    "purpose_pivot_table"
   ]
  },
  {
   "cell_type": "code",
   "execution_count": 928,
   "metadata": {},
   "outputs": [
    {
     "name": "stdout",
     "output_type": "stream",
     "text": [
      "main_word_purpose  автомобиль  недвижмость  образование  свадьба\n",
      "debt                                                            \n",
      "0                        3884         9984         3625     2126\n",
      "1                         400          779          370      184\n",
      "\n",
      "Процент людей, не имеющих задолжности:\n",
      "Для людей, берущих кредит на автомобиль: 0.907\n",
      "Для людей, берущих кредит на недвижимость: 0.928\n",
      "Для людей, берущих кредит на образование: 0.907\n",
      "Для людей, берущих кредит на свадьбу: 0.920\n"
     ]
    }
   ],
   "source": [
    "print(purpose_pivot_table)\n",
    "for_1_purpose = purpose_pivot_table['автомобиль'][0] / purpose_pivot_table['автомобиль'].sum() \n",
    "for_2_purpose = purpose_pivot_table['недвижмость'][0] / purpose_pivot_table['недвижмость'].sum() \n",
    "for_3_purpose = purpose_pivot_table['образование'][0] / purpose_pivot_table['образование'].sum() \n",
    "for_4_purpose = purpose_pivot_table['свадьба'][0] / purpose_pivot_table['свадьба'].sum() \n",
    "print ()\n",
    "print('Процент людей, не имеющих задолжности:')\n",
    "print('Для людей, берущих кредит на автомобиль: {:.3f}'.format(for_1_purpose))\n",
    "print('Для людей, берущих кредит на недвижимость: {:.3f}'.format(for_2_purpose))\n",
    "print('Для людей, берущих кредит на образование: {:.3f}'.format(for_3_purpose))\n",
    "print('Для людей, берущих кредит на свадьбу: {:.3f}'.format(for_4_purpose))"
   ]
  },
  {
   "cell_type": "markdown",
   "metadata": {},
   "source": [
    "### Вывод"
   ]
  },
  {
   "cell_type": "markdown",
   "metadata": {},
   "source": [
    "Вероятность того, что кредит на недвижимость будет погашен больше чем вероятность того, что будет погашен кредит на свадьбу. Кредит, выданный на автомобили и образование  возвращается в срок в 0,907 случаев и это наименьший показатель из всех 4-х."
   ]
  },
  {
   "cell_type": "markdown",
   "metadata": {},
   "source": [
    "### Шаг 4. Общий вывод"
   ]
  },
  {
   "cell_type": "markdown",
   "metadata": {},
   "source": [
    "Мы скачали данные с помощью библиотеки пандас, они оказались очень лохматыми, но мы их причесали: заполнили пропуски, удалили непонятные значения, избавились от дубликатов и перевели в целочисленный вид те столбцы. где это было необходимо. Затем с помощью лемматизации мы вывели ключевые слова из целей кредитования, что понадобилось нам в дальнейшем для определения зависимости между целью кредита и его возвратом в срок. Также мы использовали Категоризацию для построения сводных таблиц и вычисления по ним зависимостей. Результаты этих зависимостей можно посмотреть выше."
   ]
  }
 ],
 "metadata": {
  "kernelspec": {
   "display_name": "Python 3",
   "language": "python",
   "name": "python3"
  },
  "language_info": {
   "codemirror_mode": {
    "name": "ipython",
    "version": 3
   },
   "file_extension": ".py",
   "mimetype": "text/x-python",
   "name": "python",
   "nbconvert_exporter": "python",
   "pygments_lexer": "ipython3",
   "version": "3.7.6"
  }
 },
 "nbformat": 4,
 "nbformat_minor": 2
}
