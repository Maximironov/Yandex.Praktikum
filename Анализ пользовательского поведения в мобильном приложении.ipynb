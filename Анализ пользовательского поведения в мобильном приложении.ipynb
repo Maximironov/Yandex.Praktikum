{
 "cells": [
  {
   "cell_type": "markdown",
   "metadata": {},
   "source": [
    "# Сборный проект"
   ]
  },
  {
   "cell_type": "markdown",
   "metadata": {},
   "source": [
    "### Описание проекта\n",
    "Вы работаете в стартапе, который продаёт продукты питания. Нужно разобраться, как ведут себя пользователи вашего мобильного приложения.\n",
    "Изучите воронку продаж. Узнайте, как пользователи доходят до покупки. Сколько пользователей доходит до покупки, а сколько — «застревает» на предыдущих шагах? На каких именно?\n",
    "После этого исследуйте результаты A/A/B-эксперимента. Дизайнеры захотели поменять шрифты во всём приложении, а менеджеры испугались, что пользователям будет непривычно. Договорились принять решение по результатам A/A/B-теста. Пользователей разбили на 3 группы: 2 контрольные со старыми шрифтами и одну экспериментальную — с новыми. Выясните, какой шрифт лучше.\n",
    "<a id='table_of_contents'></a>"
   ]
  },
  {
   "cell_type": "markdown",
   "metadata": {},
   "source": [
    "В данном проекте от меня, как от аналитика, требуется изучить и предобработать данные в логах, проанализировать адекватность данных в файле, изучить воронку продаж и результаты эксперимента. Сделать вывод об успешности эксперимента."
   ]
  },
  {
   "cell_type": "markdown",
   "metadata": {},
   "source": [
    "Мы располагаем следующими данными о логах:\n",
    "* EventName — название события;\n",
    "* DeviceIDHash — уникальный идентификатор пользователя;\n",
    "* EventTimestamp — время события;\n",
    "* ExpId — номер эксперимента: 246 и 247 — контрольные группы, а 248 — экспериментальная."
   ]
  },
  {
   "cell_type": "markdown",
   "metadata": {},
   "source": [
    "1. [Загрузка данных и подготовка к анализу](#step1) <br>\n",
    "2. [Изучение и проверка данных](#step2) <br>\n",
    "    2.1. [Удаление дубликатов и изменение названий](#step2_1) <br>\n",
    "    2.2. [Добавление столбцов с датой и датой и временем](#step2_2) <br>\n",
    "    2.3 [Количество событий в логе в разбивке по названию](#step2_3) <br>\n",
    "    2.4 [Количество пользователей в логе](#step2_4) <br>\n",
    "    2.5 [Среднее количество событий на пользователя](#step2_5) <br>\n",
    "    2.6 [Максимальная и минимальная дата](#step2_6) <br>\n",
    "    2.7 [Отбросим данные](#step2_7) <br>\n",
    "3. [Изучение воронки событий](#step3) <br>\n",
    "    3.1 [События в логах по частоте](#step3_1) <br>\n",
    "    3.2 [События по числу пользователей](#step3_2) <br>\n",
    "    3.3 [Построение цепочки событий](#step3_3) <br>\n",
    "    3.4 [Построение воронки событий](#step3_4)     <br>\n",
    "    3.5 [Построение воронки событий с учётом последовательности](#step3_5) <br>\n",
    "4. [Анализ результатов эксперимента](#step4) <br>\n",
    "    4.1 [Количество пользователей в каждой экс. группе](#step4_1) <br>\n",
    "    4.2 [Проверка результатов А/А теста](#step4_2)     <br>\n",
    "    4.3 [Проверка результатов A/B теста для каждой из контрольных групп](#step4_3) <br>\n",
    "    4.4 [Проверка результатов A/B теста для объединённых контрольных групп](#step4_4) <br>\n",
    "5. [Общий вывод](#step5)"
   ]
  },
  {
   "cell_type": "markdown",
   "metadata": {},
   "source": [
    "<a id='step1'></a>\n",
    "## Шаг 1. Откроем файл с данными и изучим общую информацию\n",
    "[К оглавлению](#table_of_contents)"
   ]
  },
  {
   "cell_type": "code",
   "execution_count": 1,
   "metadata": {},
   "outputs": [],
   "source": [
    "import pandas as pd\n",
    "import numpy as np\n",
    "import datetime\n",
    "import matplotlib.pyplot as plt\n",
    "import warnings\n",
    "import seaborn as sns\n",
    "import scipy.stats as stats\n",
    "import plotly.graph_objects as go\n",
    "warnings.filterwarnings(\"ignore\")\n",
    "import math as mth\n",
    "from scipy import stats as st"
   ]
  },
  {
   "cell_type": "code",
   "execution_count": null,
   "metadata": {},
   "outputs": [],
   "source": [
    "df.info()"
   ]
  },
  {
   "cell_type": "markdown",
   "metadata": {},
   "source": [
    "### Таблица с данными содержит информацию о действиях пользователя в приложении, с указанием названия действия, временем, уникальным идентифиикатором пользователя, его совершившего, и контрольной группой,  которой этот пользователь принадлежал. Пропуск не обнаружено."
   ]
  },
  {
   "cell_type": "markdown",
   "metadata": {},
   "source": [
    "## Шаг 2. Подготовим данные\n",
    "* Заменим названия столбцов на удобные для нас;\n",
    "* Проверим пропуски и типы данных;\n",
    "* Добавим столбец даты и времени, а также отдельный столбец дат; <br>\n",
    "[К оглавлению](#table_of_contents)"
   ]
  },
  {
   "cell_type": "markdown",
   "metadata": {},
   "source": [
    "<a id='step2_1'></a>\n",
    "### Удалим дубликаты, исправим название столбцов, приведём к нижнему регистру строковый тип данных и понизим порядок числовых."
   ]
  },
  {
   "cell_type": "code",
   "execution_count": null,
   "metadata": {},
   "outputs": [],
   "source": [
    "df.drop_duplicates(inplace = True)"
   ]
  },
  {
   "cell_type": "markdown",
   "metadata": {},
   "source": [
    "Появление дубликатов в логах, скорее всего, связано с техническими ошибками."
   ]
  },
  {
   "cell_type": "code",
   "execution_count": null,
   "metadata": {},
   "outputs": [],
   "source": [
    "df.rename(columns={'EventName': 'event_name', 'DeviceIDHash': 'user_id', 'EventTimestamp':'timestamp','ExpId':'exp_id'}, inplace=True)"
   ]
  },
  {
   "cell_type": "code",
   "execution_count": null,
   "metadata": {},
   "outputs": [],
   "source": [
    "df['exp_id'] = df['exp_id'].astype('uint8')\n",
    "df['timestamp'] = df['timestamp'].astype('uint32')\n",
    "df['event_name'] = df['event_name'].str.lower()"
   ]
  },
  {
   "cell_type": "markdown",
   "metadata": {},
   "source": [
    "<a id='step2_2'></a>\n",
    "### Добавим столбцы даты и времени и столбец дат, проверим результаты предобработки:"
   ]
  },
  {
   "cell_type": "code",
   "execution_count": null,
   "metadata": {},
   "outputs": [],
   "source": [
    "def convert_datetime(row):\n",
    "    timestamp = row['timestamp'] \n",
    "    date = datetime.datetime.fromtimestamp(timestamp)\n",
    "    return date\n",
    "df['datetime'] = df.apply(convert_datetime, axis = 1)\n",
    "df['date'] = df['datetime'].astype('datetime64[D]')"
   ]
  },
  {
   "cell_type": "code",
   "execution_count": null,
   "metadata": {},
   "outputs": [],
   "source": [
    "df.info()"
   ]
  },
  {
   "cell_type": "markdown",
   "metadata": {},
   "source": [
    "<div class=\"alert alert-success\">\n",
    "<h2> Комментарий ревьюера </h2>\n",
    "\n",
    "Ошибки в таблицах исправлены. Данные подготовлены к дальнейшему анализу. \n",
    "\n",
    "</div>"
   ]
  },
  {
   "cell_type": "markdown",
   "metadata": {},
   "source": [
    "<a id='step2'></a>\n",
    "## Шаг 3. Изучим и проверим данные\n",
    "* Сколько всего событий в логе?\n",
    "* Сколько всего пользователей в логе?\n",
    "* Сколько в среднем событий приходится на пользователя?\n",
    "* Данными за какой период вы располагаете? Найдите максимальную и минимальную дату. Постройте гистограмму по дате и времени. * * * Можно ли быть уверенным, что у вас одинаково полные данные за весь период? Технически в логи новых дней по некоторым пользователям могут «доезжать» события из прошлого — это может «перекашивать данные». Определим, с какого момента данные полные и отбросьте более старые. Данными за какой период времени мы располагаем на самом деле?\n",
    "* Много ли событий и пользователей мы потеряли, отбросив старые данные?\n",
    "* Проверим, что у вас есть пользователи из всех трёх экспериментальных групп. <br>\n",
    "\n",
    "[К оглавлению](#table_of_contents)"
   ]
  },
  {
   "cell_type": "markdown",
   "metadata": {},
   "source": [
    "<a id='step2_3'></a>\n",
    "## Узнаем сколько событий в логе в разбивке по названию и всего:"
   ]
  },
  {
   "cell_type": "code",
   "execution_count": null,
   "metadata": {},
   "outputs": [],
   "source": [
    "print(df['event_name'].value_counts(), '\\n')\n",
    "sum = df['event_name'].value_counts().sum()\n",
    "print(f'Всего событий: {sum}')"
   ]
  },
  {
   "cell_type": "markdown",
   "metadata": {},
   "source": [
    "<a id='step2_4'></a>\n",
    "## Узнаем сколько всего пользователей в логе:"
   ]
  },
  {
   "cell_type": "code",
   "execution_count": null,
   "metadata": {},
   "outputs": [],
   "source": [
    "df['user_id'].nunique()"
   ]
  },
  {
   "cell_type": "markdown",
   "metadata": {},
   "source": [
    "<a id='step2_5'></a>\n",
    "## Сколько в среднем событий приходится на пользователя?"
   ]
  },
  {
   "cell_type": "code",
   "execution_count": null,
   "metadata": {},
   "outputs": [],
   "source": [
    "fig = plt.subplots(1, 3, figsize=(19.5, 6));\n",
    "plt.subplot(131);\n",
    "event_count = df.groupby('user_id')['event_name'].count()\n",
    "event_count.plot(kind = 'hist', bins = 39, grid = True);\n",
    "plt.title('Количество событий, совершаемых пользователем');\n",
    "\n",
    "plt.subplot(132);\n",
    "event_count = event_count[event_count < 100]\n",
    "event_count.plot(kind = 'hist', bins = 39, grid = True);\n",
    "plt.title('Количество событий, совершаемых пользователем (до 100)');\n",
    "\n",
    "plt.subplot(133);\n",
    "event_count = event_count[event_count < 40]\n",
    "event_count.plot(kind = 'hist', bins = 39, grid = True);\n",
    "plt.title('Количество событий, совершаемых пользователем (до 40)');"
   ]
  },
  {
   "cell_type": "code",
   "execution_count": null,
   "metadata": {},
   "outputs": [],
   "source": [
    "event_count.median()"
   ]
  },
  {
   "cell_type": "code",
   "execution_count": null,
   "metadata": {},
   "outputs": [],
   "source": [
    "event_count.mean()"
   ]
  },
  {
   "cell_type": "markdown",
   "metadata": {},
   "source": [
    "При оценке среднего будем использовать именно моду, в силу ярко выраженной унимодальности графика, наибольшее число пользователей соответствуют именно этому значению. \n",
    "#### Среднее количество событий, приходящихся на одного пользователя - 5"
   ]
  },
  {
   "cell_type": "markdown",
   "metadata": {},
   "source": [
    "## Анализ времени:\n",
    "<a id='step2_6'></a>"
   ]
  },
  {
   "cell_type": "markdown",
   "metadata": {},
   "source": [
    "### Посмотрим на максимальную и минимальную дату:"
   ]
  },
  {
   "cell_type": "code",
   "execution_count": null,
   "metadata": {},
   "outputs": [],
   "source": [
    "df['date'].min()"
   ]
  },
  {
   "cell_type": "code",
   "execution_count": null,
   "metadata": {},
   "outputs": [],
   "source": [
    "df['date'].max()"
   ]
  },
  {
   "cell_type": "markdown",
   "metadata": {},
   "source": [
    "### Построим гистограмму:"
   ]
  },
  {
   "cell_type": "code",
   "execution_count": null,
   "metadata": {},
   "outputs": [],
   "source": [
    "df['date'].hist(bins = 14);\n",
    "plt.xticks(rotation='vertical');\n",
    "plt.title('Распределение количества событий по датам');"
   ]
  },
  {
   "cell_type": "markdown",
   "metadata": {},
   "source": [
    "#### Можно заметить, что с началом нового месяца количество событий сильно растёт с 2-х тысяч до 36, изучим вопрос поподробнее и отсечём все данные с прошлого месяца:"
   ]
  },
  {
   "cell_type": "code",
   "execution_count": null,
   "metadata": {},
   "outputs": [],
   "source": [
    "top_date = df['date'].value_counts().reset_index().head(7)\n",
    "top_date.columns = ['date','count']\n",
    "top_date"
   ]
  },
  {
   "cell_type": "markdown",
   "metadata": {},
   "source": [
    "<a id='step2_7'></a>\n",
    "#### Создадим таблицу new_df только из новых данных, из старых данных создадим таблицу discarded: "
   ]
  },
  {
   "cell_type": "code",
   "execution_count": null,
   "metadata": {},
   "outputs": [],
   "source": [
    "new_df = df.merge(top_date, how = 'right', on = 'date').reset_index(drop = True)"
   ]
  },
  {
   "cell_type": "code",
   "execution_count": null,
   "metadata": {},
   "outputs": [],
   "source": [
    "discarded = df.merge(top_date, how = 'left', on = 'date').reset_index(drop = True)\n",
    "discarded = discarded[discarded['count'].isna()]"
   ]
  },
  {
   "cell_type": "markdown",
   "metadata": {},
   "source": [
    "#### Всего было отброшено 2828 событий, проверим, сколько  мы потеряли пользователей, отбросив старые данные:"
   ]
  },
  {
   "cell_type": "code",
   "execution_count": null,
   "metadata": {},
   "outputs": [],
   "source": [
    "discarded['user_id'].nunique()"
   ]
  },
  {
   "cell_type": "markdown",
   "metadata": {},
   "source": [
    "Мы потеряли 1451 пользователя, посчитаем процентные доли:"
   ]
  },
  {
   "cell_type": "code",
   "execution_count": null,
   "metadata": {},
   "outputs": [],
   "source": [
    "len(discarded) / len(df) * 100"
   ]
  },
  {
   "cell_type": "code",
   "execution_count": null,
   "metadata": {},
   "outputs": [],
   "source": [
    "discarded['user_id'].nunique() / df['user_id'].nunique() * 100"
   ]
  },
  {
   "cell_type": "markdown",
   "metadata": {},
   "source": [
    "### Отбросив старые данные (1.16% всего датафрейма), мы потеряли 19.2% всех уникальных пользователей."
   ]
  },
  {
   "cell_type": "markdown",
   "metadata": {},
   "source": [
    "## Проверьте, что у вас есть пользователи из всех трёх экспериментальных групп."
   ]
  },
  {
   "cell_type": "code",
   "execution_count": null,
   "metadata": {},
   "outputs": [],
   "source": [
    "new_df['exp_id'].value_counts()"
   ]
  },
  {
   "cell_type": "markdown",
   "metadata": {},
   "source": [
    "<a id='step3'></a>\n",
    "## Шаг 4. Изучим воронку событий\n",
    "* Посмотрим, какие события есть в логах, как часто они встречаются. Отсортируем события по частоте.\n",
    "* Посчитаем, сколько пользователей совершали каждое из этих событий. Отсортируем события по числу пользователей. Посчитаем долю пользователей, которые хоть раз совершали событие.\n",
    "* Предположим, в каком порядке происходят события. Все ли они выстраиваются в последовательную цепочку? Их не будем учитывать при расчёте воронки.\n",
    "* По воронке событий посчитаем, какая доля пользователей проходит на следующий шаг воронки (от числа пользователей на предыдущем). То есть для последовательности событий A → B → C посчитаем отношение числа пользователей с событием B к количеству пользователей с событием A, а также отношение числа пользователей с событием C к количеству пользователей с событием B.\n",
    "* На каком шаге теряем больше всего пользователей?\n",
    "* Какая доля пользователей доходит от первого события до оплаты? <br>\n",
    "\n",
    "[К оглавлению](#table_of_contents)"
   ]
  },
  {
   "cell_type": "markdown",
   "metadata": {},
   "source": [
    "<a id='step3_1'></a>\n",
    "### Посмотрите, какие события есть в логах, как часто они встречаются. Отсортируйте события по частоте."
   ]
  },
  {
   "cell_type": "code",
   "execution_count": null,
   "metadata": {},
   "outputs": [],
   "source": [
    "event_counts = new_df['event_name'].value_counts().reset_index()\n",
    "event_counts.columns  = ['event_name','count']\n",
    "event_counts"
   ]
  },
  {
   "cell_type": "code",
   "execution_count": null,
   "metadata": {},
   "outputs": [],
   "source": [
    "ax = go.FigureWidget()\n",
    "ax.add_bar(x= event_counts['event_name'], y = event_counts['count'],\n",
    "           textposition='auto', text= event_counts['count'])\n",
    "ax.layout.title = 'Как часто встречаются события в логах?'\n",
    "ax.update_layout(yaxis_title = \"Количество событий\", xaxis_title = \"Название события\",  width=800, height = 580)\n",
    "ax.show()"
   ]
  },
  {
   "cell_type": "markdown",
   "metadata": {},
   "source": [
    "<a id='step3_2'></a>\n",
    "### Посчитайте, сколько пользователей совершали каждое из этих событий. Отсортируйте события по числу пользователей. Посчитайте долю пользователей, которые хоть раз совершали событие."
   ]
  },
  {
   "cell_type": "code",
   "execution_count": null,
   "metadata": {},
   "outputs": [],
   "source": [
    "events_by_users = new_df.pivot_table(values = 'user_id', \n",
    "                                     columns = 'event_name',  \n",
    "                                     aggfunc = {'user_id':'nunique'}).T.reset_index().sort_values(by = 'user_id', \n",
    "                                                                                                  ascending = False).reset_index(drop = True)\n",
    "\n",
    "events_by_users['total_share'] = round(events_by_users['user_id'] / len(new_df['user_id'].unique()),2)\n",
    "events_by_users"
   ]
  },
  {
   "cell_type": "markdown",
   "metadata": {},
   "source": [
    "Даже на первом шаге воронки мы не имеем 1, это говорит о том, что проход через все шаги воронки не обязателен, некоторые пользователи попадая в приложение не сразу идут на главное меню, возможно сначала смотрят **tutorial**, либо приходят по ссылке уже сразу на какой-то товар."
   ]
  },
  {
   "cell_type": "markdown",
   "metadata": {},
   "source": [
    "<div class=\"alert alert-success\">\n",
    "<h2> Комментарий ревьюера </h2>\n",
    "\n",
    "Даже на первом шаге воронки мы не имеем 1. О чем это может нам говорить? Обязателен ли проход через все шаги воронки? \n",
    "    \n",
    "</div>"
   ]
  },
  {
   "cell_type": "markdown",
   "metadata": {},
   "source": [
    "<div class=\"alert alert-success\">\n",
    "<h2> Комментарий ревьюера 2</h2>\n",
    "\n",
    "Да, сайты устроены довольно сложно. Поэтому прямой проход по воронке и необязателен. \n",
    "\n",
    "</div>"
   ]
  },
  {
   "cell_type": "code",
   "execution_count": null,
   "metadata": {},
   "outputs": [],
   "source": [
    "ax = go.FigureWidget()\n",
    "ax.add_bar(x= events_by_users['event_name'], y = events_by_users['user_id'],\n",
    "           textposition='auto', text= events_by_users['user_id'])\n",
    "ax.layout.title = 'События по числу пользователей'\n",
    "ax.update_layout(yaxis_title = \"Количество пользователей\", xaxis_title = \"Название события\",  width=800, height = 580)          \n",
    "ax.show()"
   ]
  },
  {
   "cell_type": "markdown",
   "metadata": {},
   "source": [
    "<a id='step3_3'></a>\n",
    "### Предположим, в каком порядке происходят события. Все ли они выстраиваются в последовательную цепочку? Их не будем учитывать при расчёте воронки."
   ]
  },
  {
   "cell_type": "markdown",
   "metadata": {},
   "source": [
    "Перевод:\n",
    "- **mainscreenappear** - появится главный экран;\n",
    "- **offersscreenappear** - появится экран предложений;\n",
    "- **cartscreenappear** - появилась корзина;\n",
    "- **paymentscreensuccessful** - экран платёжного успешен;\n",
    "- **tutorial** - руководство."
   ]
  },
  {
   "cell_type": "markdown",
   "metadata": {},
   "source": [
    "В последовательную цепочку выстраиваются - **mainscreenappear** - **offersscreenappear** - **cartscreenappear** - **paymentscreensuccessful**"
   ]
  },
  {
   "cell_type": "code",
   "execution_count": null,
   "metadata": {},
   "outputs": [],
   "source": [
    "new_df = new_df[new_df['event_name'] != 'tutorial'].reset_index(drop = True)"
   ]
  },
  {
   "cell_type": "markdown",
   "metadata": {},
   "source": [
    "<div class=\"alert alert-success\">\n",
    "<h2> Комментарий ревьюера </h2>\n",
    "\n",
    "Последовательность событий определена. Соглашусь, tutorial не относится к ней. Этот шаг является обучением и не относится к последовательности событий.  \n",
    "    \n",
    "Также можно добавить и группировку по номеру эксперимента (246, 247, 248) в столбцах. Так мы посмотрим на то, согласуются ли данные разных групп между собой.  \n",
    "    \n",
    "</div>"
   ]
  },
  {
   "cell_type": "markdown",
   "metadata": {},
   "source": [
    "<a id='step3_4'></a>\n",
    "### По воронке событий посчитаем, какая доля пользователей проходит на следующий шаг воронки (от числа пользователей на предыдущем). То есть для последовательности событий A → B → C посчитаем отношение числа пользователей с событием B к количеству пользователей с событием A, а также отношение числа пользователей с событием C к количеству пользователей с событием B. На каком шаге теряется больше всего пользователей?"
   ]
  },
  {
   "cell_type": "code",
   "execution_count": null,
   "metadata": {},
   "outputs": [],
   "source": [
    "# Сделаем новую таблицу, исключив повторяющиеся события для одного и того же пользователя\n",
    "unique_action = new_df.drop_duplicates(subset = ['event_name', 'user_id']).reset_index(drop = True)\n",
    "\n",
    "def definition_id(row):\n",
    "    event_name = row['event_name'] \n",
    "    \n",
    "    if event_name == 'mainscreenappear':\n",
    "        result = 0\n",
    "    elif event_name == 'offersscreenappear':\n",
    "        result = 1\n",
    "    elif event_name == 'cartscreenappear':\n",
    "        result = 2\n",
    "    elif event_name == 'paymentscreensuccessful':\n",
    "        result = 3\n",
    "    return result\n",
    "\n",
    "unique_action['count'] = unique_action.apply(definition_id, axis = 1)\n",
    "unique_action.rename(columns=lambda x: x.replace('count', 'evna_id'), inplace=True)"
   ]
  },
  {
   "cell_type": "code",
   "execution_count": null,
   "metadata": {},
   "outputs": [],
   "source": [
    "percent = []\n",
    "percent.append(round(len(unique_action[unique_action['evna_id'] == 0]) / len(unique_action[unique_action['evna_id'] == 0]),3)*100)\n",
    "percent.append(round(len(unique_action[unique_action['evna_id'] == 1]) / len(unique_action[unique_action['evna_id'] == 0]),3)*100)\n",
    "percent.append(round(len(unique_action[unique_action['evna_id'] == 2]) / len(unique_action[unique_action['evna_id'] == 1]),3)*100)\n",
    "percent.append(round(len(unique_action[unique_action['evna_id'] == 3]) / len(unique_action[unique_action['evna_id'] == 2]),3)*100)"
   ]
  },
  {
   "cell_type": "code",
   "execution_count": null,
   "metadata": {},
   "outputs": [],
   "source": [
    "lens = []\n",
    "lens.append(len(unique_action[unique_action['evna_id'] == 0]))\n",
    "lens.append(len(unique_action[unique_action['evna_id'] == 1]))\n",
    "lens.append(len(unique_action[unique_action['evna_id'] == 2]))\n",
    "lens.append(len(unique_action[unique_action['evna_id'] == 3]))"
   ]
  },
  {
   "cell_type": "code",
   "execution_count": null,
   "metadata": {},
   "outputs": [],
   "source": [
    "d = {'total': lens, 'percent' : percent, 'relationship': ['mainscreenappear',\n",
    "    'offersscreenappear',\n",
    "    'cartscreenappear', 'paymentscreensuccessful']}\n",
    "percent_data = pd.DataFrame(data = d)\n",
    "percent_data"
   ]
  },
  {
   "cell_type": "code",
   "execution_count": null,
   "metadata": {},
   "outputs": [],
   "source": [
    "fig2 = go.Figure(go.Funnel(\n",
    "    y = percent_data['relationship'],\n",
    "    x = percent_data['total'],\n",
    "    textposition = \"inside\",\n",
    "    textinfo = \"value+percent initial\"))\n",
    "fig2.update_layout(title='Воронка событий')"
   ]
  },
  {
   "cell_type": "markdown",
   "metadata": {},
   "source": [
    "Больше всего пользователей теряется после первого шага, отсекается более трети всех пользователей. До последнеого этапа доходит чуть меньше половины пользователей."
   ]
  },
  {
   "cell_type": "markdown",
   "metadata": {},
   "source": [
    "<div class=\"alert alert-success\">\n",
    "<h2> Комментарий ревьюера </h2>\n",
    "\n",
    "Крутая визуализация. Воронку мы изучили. Около половины клиентов доходит с первого этапа до последнего.\n",
    "    \n",
    "</div>"
   ]
  },
  {
   "cell_type": "markdown",
   "metadata": {},
   "source": [
    "<a id='step3_5'></a>\n",
    "### Какая доля пользователей доходит от первого события до оплаты?"
   ]
  },
  {
   "cell_type": "code",
   "execution_count": null,
   "metadata": {},
   "outputs": [],
   "source": [
    "unique_action_pivot = unique_action.pivot_table(columns = 'event_name', values = 'datetime', aggfunc = 'min', index = 'user_id')"
   ]
  },
  {
   "cell_type": "code",
   "execution_count": null,
   "metadata": {},
   "outputs": [],
   "source": [
    "def asd (row):\n",
    "    mainscreenappear = row['mainscreenappear']\n",
    "    offersscreenappear = row['offersscreenappear']\n",
    "    paymentscreensuccessful = row['paymentscreensuccessful']\n",
    "    cartscreenappear = row['cartscreenappear']\n",
    "    if (mainscreenappear == mainscreenappear): \n",
    "        result = 1\n",
    "        if (mainscreenappear <= offersscreenappear):\n",
    "            result = 2\n",
    "            if (offersscreenappear <= cartscreenappear):\n",
    "                result = 3\n",
    "                if (cartscreenappear <= paymentscreensuccessful):\n",
    "                    result = 4\n",
    "    else: result = 0\n",
    "    return result"
   ]
  },
  {
   "cell_type": "code",
   "execution_count": null,
   "metadata": {},
   "outputs": [],
   "source": [
    "unique_action_pivot['successful'] = unique_action_pivot.apply(asd, axis = 1)"
   ]
  },
  {
   "cell_type": "code",
   "execution_count": null,
   "metadata": {},
   "outputs": [],
   "source": [
    "unique_action_pivot = unique_action_pivot['successful'].value_counts().reset_index()"
   ]
  },
  {
   "cell_type": "code",
   "execution_count": null,
   "metadata": {},
   "outputs": [],
   "source": [
    "unique_action_pivot = unique_action_pivot[unique_action_pivot['index'] > 0]\n",
    "unique_action_pivot['index'] = unique_action_pivot['index'].astype('object')\n",
    "unique_action_pivot['index'] = ['mainscreenappear','offersscreenappear','cartscreenappear','paymentscreensuccessful']\n",
    "unique_action_pivot "
   ]
  },
  {
   "cell_type": "code",
   "execution_count": null,
   "metadata": {},
   "outputs": [],
   "source": [
    "fig2 = go.Figure(go.Funnel(\n",
    "    y = unique_action_pivot['index'],\n",
    "    x = unique_action_pivot['successful'],\n",
    "    textposition = \"inside\",\n",
    "    textinfo = \"value+percent initial\"))\n",
    "fig2.update_layout(title='Воронка событий с учётом последовательности')"
   ]
  },
  {
   "cell_type": "markdown",
   "metadata": {},
   "source": [
    "#### 14% пользователей проходят по каждому шагу воронки"
   ]
  },
  {
   "cell_type": "markdown",
   "metadata": {},
   "source": [
    "<a id='step4'></a>\n",
    "## Шаг 5. Изучим результаты эксперимента\n",
    "* Сколько пользователей в каждой экспериментальной группе?\n",
    "* Есть 2 контрольные группы для А/А-эксперимента, чтобы проверить корректность всех механизмов и расчётов. Проверим, находят ли статистические критерии разницу между выборками 246 и 247.\n",
    "* Выберим самое популярное событие. Посчитаем число пользователей, совершивших это событие в каждой из контрольных групп. Посчитаем долю пользователей, совершивших это событие. Проверим, будет ли отличие между группами статистически достоверным. Проделаем то же самое для всех других событий (удобно обернуть проверку в отдельную функцию). Можно ли сказать, что разбиение на группы работает корректно?\n",
    "* Аналогично поступим с группой с изменённым шрифтом. Сравним результаты с каждой из контрольных групп в отдельности по каждому событию. Сравним результаты с объединённой контрольной группой. Какие выводы из эксперимента можно сделать?\n",
    "* Какой уровень значимости стоит выбрать при проверке статистических гипотез выше? Посчитаем, сколько проверок статистических гипотез мы сделали. При уровне значимости 0.1 каждый десятый раз можно получать ложный результат. Какой уровень значимости стоит применить? Если мы хотим изменить его, проделайте предыдущие пункты и проверьте свои выводы. <br>\n",
    "\n",
    "[К оглавлению](#table_of_contents)"
   ]
  },
  {
   "cell_type": "markdown",
   "metadata": {},
   "source": [
    "<a id='step4_1'></a>\n",
    "### Сколько пользователей в каждой экспериментальной группе?"
   ]
  },
  {
   "cell_type": "code",
   "execution_count": null,
   "metadata": {},
   "outputs": [],
   "source": [
    "exp_id_users = new_df.groupby('exp_id')['user_id'].nunique().reset_index()\n",
    "exp_id_users"
   ]
  },
  {
   "cell_type": "code",
   "execution_count": null,
   "metadata": {},
   "outputs": [],
   "source": [
    "print(100 - 2483 / 2535 * 100)\n",
    "print(100 - 2512 / 2535 * 100)"
   ]
  },
  {
   "cell_type": "markdown",
   "metadata": {},
   "source": [
    "<a id='step4_2'></a>\n",
    "### Есть 2 контрольные группы для А/А-эксперимента, чтобы проверить корректность всех механизмов и расчётов. Проверьте, находят ли статистические критерии разницу между выборками 246 и 247."
   ]
  },
  {
   "cell_type": "code",
   "execution_count": null,
   "metadata": {},
   "outputs": [],
   "source": [
    "sample_246 = new_df[new_df['exp_id'] == 246].reset_index(drop = True)\n",
    "sample_247 = new_df[new_df['exp_id'] == 247].reset_index(drop = True)\n",
    "sample_248 = new_df[new_df['exp_id'] == 248].reset_index(drop = True)"
   ]
  },
  {
   "cell_type": "markdown",
   "metadata": {},
   "source": [
    "#### Ответ на этот вопрос в пункте ниже..."
   ]
  },
  {
   "cell_type": "markdown",
   "metadata": {},
   "source": [
    "### Выберим самое популярное событие. Посчитаем число пользователей, совершивших это событие в каждой из контрольных групп. Посчитаем долю пользователей, совершивших это событие. Проверим, будет ли отличие между группами статистически достоверным. Проделаем то же самое для всех других событий (удобно обернуть проверку в отдельную функцию). Можно ли сказать, что разбиение на группы работает корректно?"
   ]
  },
  {
   "cell_type": "code",
   "execution_count": null,
   "metadata": {},
   "outputs": [],
   "source": [
    "users_event_246 = sample_246.groupby('event_name')['user_id'].nunique().reset_index()\n",
    "all_users = len(sample_246['user_id'].unique())\n",
    "users_event_246['share'] = users_event_246['user_id'] / all_users\n",
    "users_event_246"
   ]
  },
  {
   "cell_type": "code",
   "execution_count": null,
   "metadata": {},
   "outputs": [],
   "source": [
    "users_event_247 = sample_247.groupby('event_name')['user_id'].nunique().reset_index()\n",
    "all_users = len(sample_247['user_id'].unique())\n",
    "users_event_247['share'] = users_event_247['user_id'] / all_users\n",
    "users_event_247"
   ]
  },
  {
   "cell_type": "code",
   "execution_count": null,
   "metadata": {},
   "outputs": [],
   "source": [
    "users_event_248 = sample_248.groupby('event_name')['user_id'].nunique().reset_index()\n",
    "all_users = len(sample_248['user_id'].unique())\n",
    "users_event_248['share'] = users_event_248['user_id'] / all_users\n",
    "users_event_248"
   ]
  },
  {
   "cell_type": "markdown",
   "metadata": {},
   "source": [
    "<a id='step4_3'></a>\n",
    "## Проведём z-тест"
   ]
  },
  {
   "cell_type": "code",
   "execution_count": null,
   "metadata": {},
   "outputs": [],
   "source": [
    "alpha = .1 # критический уровень статистической значимости"
   ]
  },
  {
   "cell_type": "markdown",
   "metadata": {},
   "source": [
    "* $H_0$  в обеих генеральных совокупностях доли равны.\n",
    "* $H_1$  в обеих генеральных совокупностях доли различаются статистически значимо.\n",
    "###  Эти гипотезы будут проверяться во всех 16-и тестах снизу:"
   ]
  },
  {
   "cell_type": "code",
   "execution_count": null,
   "metadata": {},
   "outputs": [],
   "source": [
    "def z_test(sample_first,sample_second,event_name:object, exp_id1 = None, exp_id2 = None):\n",
    "    if exp_id1 == None:\n",
    "        in_group = np.array([sample_first[sample_first['event_name'] == event_name]['user_id'],\n",
    "                             sample_second[sample_second['event_name'] == event_name]['user_id']])\n",
    "        users = np.array([exp_id_users[exp_id_users['exp_id'] != 248]['user_id'].sum(),\n",
    "                          exp_id_users[exp_id_users['exp_id'] == 248]['user_id']])   \n",
    "    else:\n",
    "        in_group = np.array([sample_first[sample_first['event_name'] == event_name]['user_id'],\n",
    "                                sample_second[sample_second['event_name'] == event_name]['user_id']])\n",
    "        users = np.array([exp_id_users[exp_id_users['exp_id'] == exp_id1]['user_id'],\n",
    "                          exp_id_users[exp_id_users['exp_id'] == exp_id2]['user_id']])\n",
    "    \n",
    "    \n",
    "    p1 = in_group[0]/users[0]\n",
    "    p2 = in_group[1]/users[1]\n",
    "    p_combined = (in_group[0] + in_group[1]) / (users[0] + users[1])\n",
    "    difference = p1 - p2 \n",
    "    z_value = difference / mth.sqrt(p_combined * (1 - p_combined) * (1/users[0] + 1/users[1])) \n",
    "    distr = st.norm(0, 1)  \n",
    "\n",
    "    p_value = (1 - distr.cdf(abs(z_value))) * 2 \n",
    "    print(f'Проведён z-тест для  выборок по event_name = {event_name}')\n",
    "    print('p-значение: ', p_value)\n",
    "\n",
    "    if p_value < alpha: \n",
    "        print(\"Отвергаем нулевую гипотезу: между долями есть значимая разница\")\n",
    "    else:\n",
    "        print(\"Не получилось отвергнуть нулевую гипотезу, нет оснований считать доли разными\")"
   ]
  },
  {
   "cell_type": "code",
   "execution_count": null,
   "metadata": {},
   "outputs": [],
   "source": [
    "z_test(users_event_246,users_event_247,'mainscreenappear', 246, 247)"
   ]
  },
  {
   "cell_type": "code",
   "execution_count": null,
   "metadata": {},
   "outputs": [],
   "source": [
    "z_test(users_event_246,users_event_247,'offersscreenappear', 246, 247)"
   ]
  },
  {
   "cell_type": "code",
   "execution_count": null,
   "metadata": {},
   "outputs": [],
   "source": [
    "z_test(users_event_246,users_event_247,'cartscreenappear', 246, 247)"
   ]
  },
  {
   "cell_type": "code",
   "execution_count": null,
   "metadata": {},
   "outputs": [],
   "source": [
    "z_test(users_event_246,users_event_247,'paymentscreensuccessful', 246, 247)"
   ]
  },
  {
   "cell_type": "markdown",
   "metadata": {},
   "source": [
    "### Разбиение на группы работает корректно! Статистически значимых различий между долями для двух АА групп не найдено."
   ]
  },
  {
   "cell_type": "code",
   "execution_count": null,
   "metadata": {},
   "outputs": [],
   "source": [
    "def all_ztests(sample_1, sample_2, exp_id1 = None,exp_id2 = None):\n",
    "    if exp_id1 == None:\n",
    "        z_test(sample_1,sample_2,'mainscreenappear')\n",
    "        print()\n",
    "        z_test(sample_1,sample_2,'offersscreenappear')\n",
    "        print()\n",
    "        z_test(sample_1,sample_2,'cartscreenappear')\n",
    "        print()\n",
    "        z_test(sample_1,sample_2,'paymentscreensuccessful')\n",
    "    else:\n",
    "        z_test(sample_1,sample_2,'mainscreenappear', exp_id1, exp_id2)\n",
    "        print()\n",
    "        z_test(sample_1,sample_2,'offersscreenappear', exp_id1, exp_id2)\n",
    "        print()\n",
    "        z_test(sample_1,sample_2,'cartscreenappear', exp_id1, exp_id2)\n",
    "        print()\n",
    "        z_test(sample_1,sample_2,'paymentscreensuccessful', exp_id1, exp_id2)"
   ]
  },
  {
   "cell_type": "markdown",
   "metadata": {},
   "source": [
    "### Сравним 246 и 248  группы:"
   ]
  },
  {
   "cell_type": "code",
   "execution_count": null,
   "metadata": {},
   "outputs": [],
   "source": [
    "all_ztests(users_event_246, users_event_248, 246, 248)"
   ]
  },
  {
   "cell_type": "markdown",
   "metadata": {},
   "source": [
    "### Сравним 247 и 248  группы:"
   ]
  },
  {
   "cell_type": "code",
   "execution_count": null,
   "metadata": {},
   "outputs": [],
   "source": [
    "all_ztests(users_event_247, users_event_248, 247, 248)"
   ]
  },
  {
   "cell_type": "markdown",
   "metadata": {},
   "source": [
    "<a id='step4_4'></a>\n",
    "### Сравним объединённую 246 и 247 с 248 экспериментальной группой:"
   ]
  },
  {
   "cell_type": "code",
   "execution_count": null,
   "metadata": {},
   "outputs": [],
   "source": [
    "sample246_247 = new_df[new_df['exp_id'] != 248].reset_index(drop = True)\n",
    "users_event_246_247 = sample246_247.groupby('event_name')['user_id'].nunique().reset_index()\n",
    "\n",
    "all_users = len(sample246_247['user_id'].unique())\n",
    "\n",
    "users_event_246_247['share'] = users_event_246_247['user_id'] / all_users\n",
    "users_event_246_247"
   ]
  },
  {
   "cell_type": "code",
   "execution_count": null,
   "metadata": {},
   "outputs": [],
   "source": [
    "z_test(users_event_246_247,users_event_248,'mainscreenappear')"
   ]
  },
  {
   "cell_type": "code",
   "execution_count": null,
   "metadata": {},
   "outputs": [],
   "source": [
    "all_ztests(users_event_246_247, users_event_248)"
   ]
  },
  {
   "cell_type": "markdown",
   "metadata": {},
   "source": [
    "### Для уровня значимости alpha = 0.05 - 246,247 и 248 группы не имеют статистических различий.\n",
    "### Для уровня значимости alpha = 0.1 между 246 и 248 группы появляется статистическая значимость."
   ]
  },
  {
   "cell_type": "markdown",
   "metadata": {},
   "source": [
    "<a id='step5'></a>\n",
    "# Общий вывод:\n",
    "\n",
    "[К оглавлению](#table_of_contents)\n",
    "#### Мы получили данные\n",
    "о логах мобильного приложения, после предобработки (удаления дубликатов, понижения порядка числовых атрибутов и приведения в нижний регистр строковы) \n",
    "#### приступили к анализу:\n",
    "\n",
    "* Узнали, что всего в эксперименте участвовал 7551 пользователь;\n",
    "* Узнали, что в среднем пользователь совершает 5 действий;\n",
    "* Выяснили, что не весь период соответствует времени проведения эксперимента, отбросили ненужное время (всё до 1-го августа) и посмотрели, как много пользователей мы потеряли, оказалось, что отбросив 1.16% датафрейма, мы потеряли 19.2% всех уникальных пользователей. \n",
    "#### Изучили воронку продаж:\n",
    "\n",
    "выяснили, что записей с удачным совершением покупки примерно в 2 раза меньше, чем записей с просмотром основного меню. <br>\n",
    "При движении по воронке продаж: **mainscreenappear - offersscreenappear - cartscreenappear - paymentscreensuccessful** конверсия от первого шага до последнего - 14%. \n",
    "#### Изучили результаты эксперимента:\n",
    "* Для уровня значимости alpha = 0.05 - 246,247 и 248 группы не имеют статистических различий.\n",
    "* Для уровня значимости alpha = 0.1 между 246 и 248 группы появляется статистическая значимость.\n",
    "Доля событий статистически значимо не изменилась, для уровня значимости 0.05%, это говорит о том, что изменение шрифта во всём приложении не улучшило и не ухудшило ситуацию по показателям, поскольку изначально и не было задачи повысить конверсию в результате эксперимента, а была задача не распугать пользователей, то можно считать, что **эксперимент прошел удачно.**"
   ]
  }
 ],
 "metadata": {
  "kernelspec": {
   "display_name": "Python 3",
   "language": "python",
   "name": "python3"
  }
 },
 "nbformat": 4,
 "nbformat_minor": 2
}
