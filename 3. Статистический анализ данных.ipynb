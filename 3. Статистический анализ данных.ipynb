{
 "cells": [
  {
   "cell_type": "markdown",
   "metadata": {},
   "source": [
    "### Шаг 1. Откройте файл с данными и изучите общую информацию. \n"
   ]
  },
  {
   "cell_type": "markdown",
   "metadata": {},
   "source": [
    "Импортируем необходимые для работы библиотеки, откроем все файлы и изучим их"
   ]
  },
  {
   "cell_type": "code",
   "execution_count": 1,
   "metadata": {},
   "outputs": [],
   "source": [
    "import pandas as pd\n",
    "import numpy as np\n",
    "import matplotlib.pyplot as plt\n",
    "import math\n",
    "from IPython.display import display"
   ]
  },
  {
   "cell_type": "code",
   "execution_count": 2,
   "metadata": {},
   "outputs": [],
   "source": [
    "calls = pd.read_csv('/datasets/calls.csv')\n",
    "internet = pd.read_csv('/datasets/internet.csv')\n",
    "messages = pd.read_csv('/datasets/messages.csv')\n",
    "tariffs = pd.read_csv('/datasets/tariffs.csv')\n",
    "users = pd.read_csv('/datasets/users.csv')"
   ]
  },
  {
   "cell_type": "code",
   "execution_count": 3,
   "metadata": {},
   "outputs": [],
   "source": [
    "# Функция выводящая основную информацию о датасете\n",
    "def quick_info(data):\n",
    "    print(data.info())\n",
    "    print(data.columns)\n",
    "    #display(data.head())"
   ]
  },
  {
   "cell_type": "code",
   "execution_count": 4,
   "metadata": {},
   "outputs": [
    {
     "name": "stdout",
     "output_type": "stream",
     "text": [
      "<class 'pandas.core.frame.DataFrame'>\n",
      "RangeIndex: 202607 entries, 0 to 202606\n",
      "Data columns (total 4 columns):\n",
      "id           202607 non-null object\n",
      "call_date    202607 non-null object\n",
      "duration     202607 non-null float64\n",
      "user_id      202607 non-null int64\n",
      "dtypes: float64(1), int64(1), object(2)\n",
      "memory usage: 6.2+ MB\n",
      "None\n",
      "Index(['id', 'call_date', 'duration', 'user_id'], dtype='object')\n"
     ]
    }
   ],
   "source": [
    "quick_info(calls)"
   ]
  },
  {
   "cell_type": "markdown",
   "metadata": {},
   "source": [
    "<b> call_date </b> иммет неправильный тип данных, заметны подозрительные нули в продолжительности, пропусков и пробелов в названиях столбцов нет"
   ]
  },
  {
   "cell_type": "code",
   "execution_count": 5,
   "metadata": {},
   "outputs": [
    {
     "name": "stdout",
     "output_type": "stream",
     "text": [
      "<class 'pandas.core.frame.DataFrame'>\n",
      "RangeIndex: 149396 entries, 0 to 149395\n",
      "Data columns (total 5 columns):\n",
      "Unnamed: 0      149396 non-null int64\n",
      "id              149396 non-null object\n",
      "mb_used         149396 non-null float64\n",
      "session_date    149396 non-null object\n",
      "user_id         149396 non-null int64\n",
      "dtypes: float64(1), int64(2), object(2)\n",
      "memory usage: 5.7+ MB\n",
      "None\n",
      "Index(['Unnamed: 0', 'id', 'mb_used', 'session_date', 'user_id'], dtype='object')\n"
     ]
    }
   ],
   "source": [
    "quick_info(internet)"
   ]
  },
  {
   "cell_type": "markdown",
   "metadata": {},
   "source": [
    "<b> session_date </b> иммет неправильный тип данных, лишний столбец с индексами <b> 'Unnamed' </b> пропусков и пробелов в названиях столбцов нет"
   ]
  },
  {
   "cell_type": "code",
   "execution_count": 6,
   "metadata": {},
   "outputs": [
    {
     "name": "stdout",
     "output_type": "stream",
     "text": [
      "<class 'pandas.core.frame.DataFrame'>\n",
      "RangeIndex: 123036 entries, 0 to 123035\n",
      "Data columns (total 3 columns):\n",
      "id              123036 non-null object\n",
      "message_date    123036 non-null object\n",
      "user_id         123036 non-null int64\n",
      "dtypes: int64(1), object(2)\n",
      "memory usage: 2.8+ MB\n",
      "None\n",
      "Index(['id', 'message_date', 'user_id'], dtype='object')\n"
     ]
    }
   ],
   "source": [
    "quick_info(messages)"
   ]
  },
  {
   "cell_type": "markdown",
   "metadata": {},
   "source": [
    "<b> message_date </b> иммет неправильный тип данных, пропусков и пробелов в названиях столбцов нет"
   ]
  },
  {
   "cell_type": "code",
   "execution_count": 7,
   "metadata": {},
   "outputs": [
    {
     "name": "stdout",
     "output_type": "stream",
     "text": [
      "<class 'pandas.core.frame.DataFrame'>\n",
      "RangeIndex: 2 entries, 0 to 1\n",
      "Data columns (total 8 columns):\n",
      "messages_included        2 non-null int64\n",
      "mb_per_month_included    2 non-null int64\n",
      "minutes_included         2 non-null int64\n",
      "rub_monthly_fee          2 non-null int64\n",
      "rub_per_gb               2 non-null int64\n",
      "rub_per_message          2 non-null int64\n",
      "rub_per_minute           2 non-null int64\n",
      "tariff_name              2 non-null object\n",
      "dtypes: int64(7), object(1)\n",
      "memory usage: 256.0+ bytes\n",
      "None\n",
      "Index(['messages_included', 'mb_per_month_included', 'minutes_included',\n",
      "       'rub_monthly_fee', 'rub_per_gb', 'rub_per_message', 'rub_per_minute',\n",
      "       'tariff_name'],\n",
      "      dtype='object')\n"
     ]
    }
   ],
   "source": [
    "quick_info(tariffs)"
   ]
  },
  {
   "cell_type": "markdown",
   "metadata": {},
   "source": [
    "<b> Никаких проблем нет. </b>"
   ]
  },
  {
   "cell_type": "code",
   "execution_count": 8,
   "metadata": {},
   "outputs": [
    {
     "name": "stdout",
     "output_type": "stream",
     "text": [
      "<class 'pandas.core.frame.DataFrame'>\n",
      "RangeIndex: 500 entries, 0 to 499\n",
      "Data columns (total 8 columns):\n",
      "user_id       500 non-null int64\n",
      "age           500 non-null int64\n",
      "churn_date    38 non-null object\n",
      "city          500 non-null object\n",
      "first_name    500 non-null object\n",
      "last_name     500 non-null object\n",
      "reg_date      500 non-null object\n",
      "tariff        500 non-null object\n",
      "dtypes: int64(2), object(6)\n",
      "memory usage: 31.4+ KB\n",
      "None\n",
      "Index(['user_id', 'age', 'churn_date', 'city', 'first_name', 'last_name',\n",
      "       'reg_date', 'tariff'],\n",
      "      dtype='object')\n"
     ]
    }
   ],
   "source": [
    "quick_info(users)"
   ]
  },
  {
   "cell_type": "markdown",
   "metadata": {},
   "source": [
    "<b> reg_date </b> и <b> churn_date </b>  имеют неправильный тип, <b> churn_date </b> имеет много пропусков, скорее всего связанных с тем, что эти клиенты от нас не уходили, пробелов в названии столбцов нет."
   ]
  },
  {
   "cell_type": "markdown",
   "metadata": {},
   "source": [
    "#### Вывод:  \n",
    "просмотрев все 5 датафреймов можно сказать, что даты во всех из них имеют несоответствующий тип (object вместо datetime64), <b> 'calls' </b> содержит подозрительные нули в продолжительности звонков, <b> 'users'</b> имеют пропуски в дате ухода клиента, все качественные строчные характеристики лучше привести к нижнему регистру, а id в разных таблицах лучше переименновать, других проблем обнаружено не было."
   ]
  },
  {
   "cell_type": "markdown",
   "metadata": {},
   "source": [
    "### Шаг 2. Подготовьте данные <br>\n",
    "<u1>\n",
    "    <li> Приведите данные к нужным типам; </li>  \n",
    "    <li> Найдите и исправьте ошибки в данных. </li>  \n",
    "</u1> <br>\n",
    "Посчитайте для каждого пользователя: \n",
    "<u1>\n",
    "    <li> количество сделанных звонков и израсходованных минут разговора по месяцам; </li>  \n",
    "    <li> количество отправленных сообщений по месяцам;</li>  \n",
    "    <li> объем израсходованного интернет-трафика по месяцам;</li>  \n",
    "    <li> помесячную выручку с каждого пользователя. </li>  \n",
    "</u1>"
   ]
  },
  {
   "cell_type": "markdown",
   "metadata": {},
   "source": [
    "Приведём к нужному типу даты в датафреймах:"
   ]
  },
  {
   "cell_type": "code",
   "execution_count": 9,
   "metadata": {},
   "outputs": [],
   "source": [
    "calls['call_date'] = calls['call_date'].astype('datetime64')\n",
    "internet['session_date'] = internet['session_date'].astype('datetime64')\n",
    "messages['message_date'] = messages['message_date'].astype('datetime64')\n",
    "users['reg_date'] = users['reg_date'].astype('datetime64')\n",
    "users['churn_date'] = users['churn_date'].astype('datetime64')"
   ]
  },
  {
   "cell_type": "markdown",
   "metadata": {},
   "source": [
    "Проверим результат:"
   ]
  },
  {
   "cell_type": "code",
   "execution_count": 10,
   "metadata": {},
   "outputs": [
    {
     "name": "stdout",
     "output_type": "stream",
     "text": [
      "datetime64[ns]\n",
      "datetime64[ns]\n",
      "datetime64[ns]\n",
      "datetime64[ns]\n",
      "datetime64[ns]\n"
     ]
    }
   ],
   "source": [
    "print(calls['call_date'].dtype)\n",
    "print(internet['session_date'].dtype)\n",
    "print(messages['message_date'].dtype)\n",
    "print(users['reg_date'].dtype)\n",
    "print(users['churn_date'].dtype)"
   ]
  },
  {
   "cell_type": "markdown",
   "metadata": {},
   "source": [
    "Проверка прошла <b> успешно</b>, на всякий случай приведём значения к нижнему регистру, где это необходимо:"
   ]
  },
  {
   "cell_type": "code",
   "execution_count": 11,
   "metadata": {},
   "outputs": [],
   "source": [
    "users['city'] = users['city'].str.lower()\n",
    "users['first_name'] = users['first_name'].str.lower()\n",
    "users['last_name'] = users['last_name'].str.lower()"
   ]
  },
  {
   "cell_type": "markdown",
   "metadata": {},
   "source": [
    "Удалим лишний столбец в датафрейме internet:"
   ]
  },
  {
   "cell_type": "code",
   "execution_count": 12,
   "metadata": {},
   "outputs": [],
   "source": [
    "del internet['Unnamed: 0']"
   ]
  },
  {
   "cell_type": "markdown",
   "metadata": {},
   "source": [
    "Переименнуем столбцы id в разных таблицах, что б не запутаться"
   ]
  },
  {
   "cell_type": "code",
   "execution_count": 13,
   "metadata": {},
   "outputs": [],
   "source": [
    "calls.rename(columns = {'id':'call_id'}, inplace = True)\n",
    "messages.rename(columns = {'id':'message_id'},inplace = True)\n",
    "internet.rename(columns = {'id':'session_id'}, inplace = True)"
   ]
  },
  {
   "cell_type": "markdown",
   "metadata": {},
   "source": [
    "Добавим столбец с месяцем для каждой интересующей нас метрики"
   ]
  },
  {
   "cell_type": "code",
   "execution_count": 14,
   "metadata": {},
   "outputs": [],
   "source": [
    "messages['month'] = pd.DatetimeIndex(messages['message_date']).month\n",
    "calls['month'] = pd.DatetimeIndex(calls['call_date']).month \n",
    "internet['month'] = pd.DatetimeIndex(internet['session_date']).month"
   ]
  },
  {
   "cell_type": "markdown",
   "metadata": {},
   "source": [
    "Избавимся от звонков продолжительностью 0. Пропущенные звонки сильно искозят данные в последствии. "
   ]
  },
  {
   "cell_type": "markdown",
   "metadata": {},
   "source": [
    "Сведём звонки, сообщения и интернет в одну таблицу"
   ]
  },
  {
   "cell_type": "code",
   "execution_count": 15,
   "metadata": {},
   "outputs": [],
   "source": [
    "tariffs.rename(columns = {'tariff_name':'tariff'}, inplace = True)"
   ]
  },
  {
   "cell_type": "code",
   "execution_count": 16,
   "metadata": {},
   "outputs": [],
   "source": [
    "# Сведём метрики с информацией о пользователях (вспомогательный шаг)\n",
    "messages = messages.merge(users,  how ='left', on = 'user_id')\n",
    "internet = internet.merge(users,  how ='left', on = 'user_id')\n",
    "calls = calls.merge(users,  how ='left', on = 'user_id')"
   ]
  },
  {
   "cell_type": "markdown",
   "metadata": {},
   "source": [
    "Для каждой метрики сделаем сводную таблицу для каждого пользователя"
   ]
  },
  {
   "cell_type": "code",
   "execution_count": 17,
   "metadata": {},
   "outputs": [],
   "source": [
    "messagges_for_user = messages.pivot_table('message_id', index = ['user_id', 'month','tariff'],  aggfunc = 'count') \n",
    "internet_for_user = internet.pivot_table('mb_used', index = ['user_id', 'month','tariff'],  aggfunc = 'sum') \n",
    "calls_for_user = calls.pivot_table(['call_id', 'duration'], index = ['user_id', 'month','tariff'], aggfunc = {'call_id':'count','duration':'sum'})"
   ]
  },
  {
   "cell_type": "markdown",
   "metadata": {},
   "source": [
    "Сводим всё в одну большую общую таблицу и посмотрим на неё"
   ]
  },
  {
   "cell_type": "code",
   "execution_count": 18,
   "metadata": {},
   "outputs": [],
   "source": [
    "data = messagges_for_user.merge (internet_for_user, how ='outer', on = ['user_id', 'month','tariff'])\n",
    "data = data.merge( calls_for_user, how ='outer',  on = ['user_id', 'month','tariff'])\n",
    "data = data.reset_index()\n",
    "data = data.merge(users, how ='inner', on = ['user_id','tariff'])\n",
    "data = data.merge(tariffs, how ='left', on ='tariff')"
   ]
  },
  {
   "cell_type": "markdown",
   "metadata": {},
   "source": [
    "Переименнуем message_id и call_id "
   ]
  },
  {
   "cell_type": "code",
   "execution_count": 19,
   "metadata": {},
   "outputs": [
    {
     "name": "stdout",
     "output_type": "stream",
     "text": [
      "<class 'pandas.core.frame.DataFrame'>\n",
      "Int64Index: 3214 entries, 0 to 3213\n",
      "Data columns (total 20 columns):\n",
      "user_id                  3214 non-null int64\n",
      "month                    3214 non-null int64\n",
      "tariff                   3214 non-null object\n",
      "messages_counts          2717 non-null float64\n",
      "mb_used                  3203 non-null float64\n",
      "calls_counts             3174 non-null float64\n",
      "duration                 3174 non-null float64\n",
      "age                      3214 non-null int64\n",
      "churn_date               187 non-null datetime64[ns]\n",
      "city                     3214 non-null object\n",
      "first_name               3214 non-null object\n",
      "last_name                3214 non-null object\n",
      "reg_date                 3214 non-null datetime64[ns]\n",
      "messages_included        3214 non-null int64\n",
      "mb_per_month_included    3214 non-null int64\n",
      "minutes_included         3214 non-null int64\n",
      "rub_monthly_fee          3214 non-null int64\n",
      "rub_per_gb               3214 non-null int64\n",
      "rub_per_message          3214 non-null int64\n",
      "rub_per_minute           3214 non-null int64\n",
      "dtypes: datetime64[ns](2), float64(4), int64(10), object(4)\n",
      "memory usage: 527.3+ KB\n"
     ]
    }
   ],
   "source": [
    "data.rename(columns = {'message_id':'messages_counts'}, inplace = True)\n",
    "data.rename(columns = {'call_id':'calls_counts'}, inplace = True)\n",
    "data.info()"
   ]
  },
  {
   "cell_type": "markdown",
   "metadata": {},
   "source": [
    "### Заполмним пропуски в получившейся таблице:"
   ]
  },
  {
   "cell_type": "markdown",
   "metadata": {},
   "source": [
    "Есть предположение, что пропуски появялются в случаях, когда пользователь перешёл на другой тариф (и данные утерялись), и, что пропуски зависят от тарифа, поэтому заполняя пропуски буду также обращать внимание на эти 2 момента. "
   ]
  },
  {
   "cell_type": "code",
   "execution_count": 20,
   "metadata": {},
   "outputs": [
    {
     "data": {
      "text/plain": [
       "user_id                                 1000\n",
       "month                                      1\n",
       "tariff                                 smart\n",
       "messages_counts                            1\n",
       "mb_used                                    0\n",
       "calls_counts                               1\n",
       "duration                                   0\n",
       "age                                       18\n",
       "churn_date               2018-08-17 00:00:00\n",
       "city                             архангельск\n",
       "first_name                         авксентий\n",
       "last_name                            абаимов\n",
       "reg_date                 2018-01-01 00:00:00\n",
       "messages_included                         50\n",
       "mb_per_month_included                  15360\n",
       "minutes_included                         500\n",
       "rub_monthly_fee                          550\n",
       "rub_per_gb                               150\n",
       "rub_per_message                            1\n",
       "rub_per_minute                             1\n",
       "dtype: object"
      ]
     },
     "execution_count": 20,
     "metadata": {},
     "output_type": "execute_result"
    }
   ],
   "source": [
    "data.min()"
   ]
  },
  {
   "cell_type": "markdown",
   "metadata": {},
   "source": [
    "Из информации о минимальных значениях можно сделать вывод, что<b> calls_counts</b> всегда, как минимум 1, то есть, если пользователь не звонил ни разу - то ставится пропуск, то же самое можно сказать про <b> messages_counts </b> и по той же логике <b> mb_used </b> нужно обрабатывать иначе. "
   ]
  },
  {
   "cell_type": "code",
   "execution_count": 21,
   "metadata": {},
   "outputs": [],
   "source": [
    "# Функция, сравнивающая количество пропусков по разным тарифам \n",
    "def comparison_passes(atribut):  \n",
    "    passes = data[data[atribut].isnull()]\n",
    "    x = passes[passes['tariff'] == 'smart']['month']\n",
    "    y = passes[passes['tariff'] == 'ultra']['month']\n",
    "    x.plot(label = 'smart', kind ='hist', legend ='smart', grid = True, alpha = 0.5);\n",
    "    y.plot(label = 'ultra', kind ='hist', legend ='ultra', grid = True, alpha = 0.5);"
   ]
  },
  {
   "cell_type": "code",
   "execution_count": 22,
   "metadata": {},
   "outputs": [],
   "source": [
    "disconected = data [data['churn_date'] == data['churn_date']]"
   ]
  },
  {
   "cell_type": "markdown",
   "metadata": {},
   "source": [
    "#### Пропуски в 'calls_counts' и 'duration'. \n",
    "Пропусков одинаковое количество, проверим их взаимосвязь. "
   ]
  },
  {
   "cell_type": "code",
   "execution_count": 23,
   "metadata": {},
   "outputs": [
    {
     "data": {
      "text/plain": [
       "40"
      ]
     },
     "execution_count": 23,
     "metadata": {},
     "output_type": "execute_result"
    }
   ],
   "source": [
    "len(data [data['calls_counts'].isnull() & data['duration'].isnull()])"
   ]
  },
  {
   "cell_type": "markdown",
   "metadata": {},
   "source": [
    "Построив гистограмму, определив пропуски по месяцам по тарифам"
   ]
  },
  {
   "cell_type": "code",
   "execution_count": 24,
   "metadata": {},
   "outputs": [
    {
     "data": {
      "image/png": "[encoded data removed]",
      "text/plain": [
       "<Figure size 432x288 with 1 Axes>"
      ]
     },
     "metadata": {
      "needs_background": "light"
     },
     "output_type": "display_data"
    }
   ],
   "source": [
    "comparison_passes('calls_counts')"
   ]
  },
  {
   "cell_type": "markdown",
   "metadata": {},
   "source": [
    "Пропуски в звонках наинаются со 1-го месяца и растут до 12-го ( рост обусловлен притоком новых пользователей) , пользователи, пользующиеся тарифом <b> 'ultra'</b> имеют больше пропусков, чем тарифом <b> 'smart'</b>. Проверим, пропуски на взаимосвязь с датой отключения."
   ]
  },
  {
   "cell_type": "code",
   "execution_count": 25,
   "metadata": {},
   "outputs": [
    {
     "data": {
      "text/plain": [
       "0"
      ]
     },
     "execution_count": 25,
     "metadata": {},
     "output_type": "execute_result"
    }
   ],
   "source": [
    "len(disconected[disconected['calls_counts'].isnull()])"
   ]
  },
  {
   "cell_type": "markdown",
   "metadata": {},
   "source": [
    "Взаимосвязи с датой отключения нет. Предположительно, все строки имеющие пропуски в продолжительности обоснованы пропусками в количестве звонков. Заполним данные пропуски нулями:"
   ]
  },
  {
   "cell_type": "code",
   "execution_count": 26,
   "metadata": {},
   "outputs": [],
   "source": [
    "data['calls_counts'] = data['calls_counts'].fillna(0)\n",
    "data['duration'] = data['duration'].fillna(0)"
   ]
  },
  {
   "cell_type": "markdown",
   "metadata": {},
   "source": [
    "#### Пропуски в 'mb_used'"
   ]
  },
  {
   "cell_type": "code",
   "execution_count": 27,
   "metadata": {
    "scrolled": true
   },
   "outputs": [
    {
     "data": {
      "image/png": "[encoded data removed]",
      "text/plain": [
       "<Figure size 432x288 with 1 Axes>"
      ]
     },
     "metadata": {
      "needs_background": "light"
     },
     "output_type": "display_data"
    }
   ],
   "source": [
    "comparison_passes('mb_used')"
   ]
  },
  {
   "cell_type": "markdown",
   "metadata": {},
   "source": [
    "Пропуски в <b> 'mb_used' </b> присущи преимущественно пользователям тарифа <b> 'ultra' </b>"
   ]
  },
  {
   "cell_type": "code",
   "execution_count": 28,
   "metadata": {},
   "outputs": [
    {
     "data": {
      "text/plain": [
       "11"
      ]
     },
     "execution_count": 28,
     "metadata": {},
     "output_type": "execute_result"
    }
   ],
   "source": [
    "len(data [data['mb_used'].isnull()]) "
   ]
  },
  {
   "cell_type": "code",
   "execution_count": 29,
   "metadata": {},
   "outputs": [
    {
     "data": {
      "text/plain": [
       "1"
      ]
     },
     "execution_count": 29,
     "metadata": {},
     "output_type": "execute_result"
    }
   ],
   "source": [
    "len(disconected[disconected['mb_used'].isnull()])"
   ]
  },
  {
   "cell_type": "code",
   "execution_count": 30,
   "metadata": {
    "scrolled": true
   },
   "outputs": [],
   "source": [
    "#data[data['mb_used'] == 0]"
   ]
  },
  {
   "cell_type": "code",
   "execution_count": 31,
   "metadata": {},
   "outputs": [],
   "source": [
    "#data [data['mb_used'].isnull()]"
   ]
  },
  {
   "cell_type": "markdown",
   "metadata": {},
   "source": [
    "Предположение, что 2 пользователя с <b> mb_used = 0 </b> действительно умудрились потратить меньше мегабайта за сессию. А пропуски свидетельствуют об отсутствии интернет сессий в течение месяца вовсе.<b> user_id = 1273 </b> не пользуется интернетом с момента регистрации. Не было сессий -> потраченных мегабайтов ноль. Заполняем пропуски нулями:"
   ]
  },
  {
   "cell_type": "code",
   "execution_count": 32,
   "metadata": {},
   "outputs": [],
   "source": [
    "data['mb_used'] = data['mb_used'].fillna(0)"
   ]
  },
  {
   "cell_type": "markdown",
   "metadata": {},
   "source": [
    "#### Пропуски в 'messages_counts'"
   ]
  },
  {
   "cell_type": "code",
   "execution_count": 33,
   "metadata": {},
   "outputs": [
    {
     "data": {
      "image/png": "[encoded data removed]",
      "text/plain": [
       "<Figure size 432x288 with 1 Axes>"
      ]
     },
     "metadata": {
      "needs_background": "light"
     },
     "output_type": "display_data"
    }
   ],
   "source": [
    "comparison_passes('messages_counts')"
   ]
  },
  {
   "cell_type": "code",
   "execution_count": 34,
   "metadata": {},
   "outputs": [
    {
     "data": {
      "text/plain": [
       "497"
      ]
     },
     "execution_count": 34,
     "metadata": {},
     "output_type": "execute_result"
    }
   ],
   "source": [
    "len(data[data['messages_counts'].isnull()])"
   ]
  },
  {
   "cell_type": "code",
   "execution_count": 35,
   "metadata": {},
   "outputs": [
    {
     "data": {
      "text/plain": [
       "47"
      ]
     },
     "execution_count": 35,
     "metadata": {},
     "output_type": "execute_result"
    }
   ],
   "source": [
    "len(disconected[disconected['messages_counts'].isnull()])"
   ]
  },
  {
   "cell_type": "markdown",
   "metadata": {},
   "source": [
    "Уже не 0 конечно, но всё равно не достаточно, чтобы утверждать зависимость"
   ]
  },
  {
   "cell_type": "code",
   "execution_count": 36,
   "metadata": {},
   "outputs": [],
   "source": [
    "data['messages_counts'] = data['messages_counts'].fillna(0)"
   ]
  },
  {
   "cell_type": "markdown",
   "metadata": {},
   "source": [
    "Проверим, что все пропуски заполнены ( <b> churn_date </b> мы не заполняем)"
   ]
  },
  {
   "cell_type": "code",
   "execution_count": 37,
   "metadata": {},
   "outputs": [
    {
     "name": "stdout",
     "output_type": "stream",
     "text": [
      "<class 'pandas.core.frame.DataFrame'>\n",
      "Int64Index: 3214 entries, 0 to 3213\n",
      "Data columns (total 20 columns):\n",
      "user_id                  3214 non-null int64\n",
      "month                    3214 non-null int64\n",
      "tariff                   3214 non-null object\n",
      "messages_counts          3214 non-null float64\n",
      "mb_used                  3214 non-null float64\n",
      "calls_counts             3214 non-null float64\n",
      "duration                 3214 non-null float64\n",
      "age                      3214 non-null int64\n",
      "churn_date               187 non-null datetime64[ns]\n",
      "city                     3214 non-null object\n",
      "first_name               3214 non-null object\n",
      "last_name                3214 non-null object\n",
      "reg_date                 3214 non-null datetime64[ns]\n",
      "messages_included        3214 non-null int64\n",
      "mb_per_month_included    3214 non-null int64\n",
      "minutes_included         3214 non-null int64\n",
      "rub_monthly_fee          3214 non-null int64\n",
      "rub_per_gb               3214 non-null int64\n",
      "rub_per_message          3214 non-null int64\n",
      "rub_per_minute           3214 non-null int64\n",
      "dtypes: datetime64[ns](2), float64(4), int64(10), object(4)\n",
      "memory usage: 527.3+ KB\n"
     ]
    }
   ],
   "source": [
    "data.info()"
   ]
  },
  {
   "cell_type": "markdown",
   "metadata": {},
   "source": [
    "#### Посчитаем выручку с каждого пользователя"
   ]
  },
  {
   "cell_type": "code",
   "execution_count": 38,
   "metadata": {
    "scrolled": true
   },
   "outputs": [],
   "source": [
    "def revenue(row):\n",
    "    messages_counts = row['messages_counts']\n",
    "    duration = row['duration']\n",
    "    mb_used = row['mb_used']\n",
    "    messages_included = row['messages_included']\n",
    "    mb_per_month_included = row['mb_per_month_included']\n",
    "    minutes_included = row['minutes_included']\n",
    "    rub_monthly_fee =  row['rub_monthly_fee']\n",
    "    rub_per_gb = row['rub_per_gb']\n",
    "    rub_per_message = row['rub_per_message']\n",
    "    rub_per_minute = row['rub_per_minute']\n",
    "    #Посчитаем прибыль за сообщения\n",
    "    if messages_counts > messages_included:\n",
    "        message_revenue = (messages_counts - messages_included) * rub_per_message \n",
    "    else: message_revenue = 0\n",
    "    #Посчитаем прибыль за звонки\n",
    "    if duration > minutes_included:\n",
    "        calls_revenue = math.ceil(duration - minutes_included) * rub_per_minute \n",
    "    else: calls_revenue = 0    \n",
    "    #Посчитаем прибыль за интернет\n",
    "    if mb_used > mb_per_month_included:\n",
    "        internet_revenue = math.ceil((mb_used - mb_per_month_included)/1024) * rub_per_gb \n",
    "    else: internet_revenue = 0    \n",
    "    return rub_monthly_fee + message_revenue + calls_revenue + internet_revenue \n",
    "data['user_revenue'] = data.apply(revenue, axis =1) "
   ]
  },
  {
   "cell_type": "markdown",
   "metadata": {},
   "source": [
    "### Шаг 3. Проанализируйте данные\n",
    "Опишите поведение клиентов оператора, исходя из выборки. Сколько минут разговора, сколько сообщений и какой объём интернет-трафика требуется пользователям каждого тарифа в месяц? Посчитайте среднее количество, дисперсию и стандартное отклонение. Постройте гистограммы. Опишите распределения."
   ]
  },
  {
   "cell_type": "code",
   "execution_count": 39,
   "metadata": {},
   "outputs": [],
   "source": [
    "for_smart = data[data['tariff'] == 'smart']\n",
    "for_ultra = data[data['tariff'] == 'ultra']"
   ]
  },
  {
   "cell_type": "code",
   "execution_count": 40,
   "metadata": {},
   "outputs": [],
   "source": [
    "for_smart_des = for_smart.loc[:,'messages_counts': 'duration'].describe().loc['mean':'std', :]\n",
    "for unique in for_smart_des:\n",
    "    for_smart_des.loc['disp', unique] = for_smart_des.loc['std', unique] ** 2"
   ]
  },
  {
   "cell_type": "code",
   "execution_count": 41,
   "metadata": {},
   "outputs": [],
   "source": [
    "for_ultra_des = for_ultra.loc[:,'messages_counts': 'duration'].describe().loc['mean':'std', :]\n",
    "for unique in for_ultra_des:\n",
    "    for_ultra_des.loc['disp', unique] = for_ultra_des.loc['std', unique] ** 2"
   ]
  },
  {
   "cell_type": "markdown",
   "metadata": {},
   "source": [
    "Для тарифа <b>'ultra'</b> характерны бОльшие средние значения, однако также растёт и дисперсия и, соответствуенно, стандартное отклонение."
   ]
  },
  {
   "cell_type": "code",
   "execution_count": 42,
   "metadata": {},
   "outputs": [],
   "source": [
    "def comparison_describe(atribut): \n",
    "    st = 'Распределение по ' + atribut\n",
    "    x = for_smart[atribut]\n",
    "    y = for_ultra[atribut]\n",
    "    x.plot(label = 'smart', kind ='hist', legend ='smart', grid = True, alpha = 0.5, figsize = (12.5,8), bins = 50);\n",
    "    y.plot(label = 'ultra', kind ='hist', legend ='ultra', grid = True, alpha = 0.5 , title = st, bins = 50);"
   ]
  },
  {
   "cell_type": "code",
   "execution_count": 43,
   "metadata": {},
   "outputs": [
    {
     "data": {
      "text/plain": [
       "count    2229.000000\n",
       "mean      394.427026\n",
       "std       179.962207\n",
       "min         0.000000\n",
       "25%       267.230000\n",
       "50%       397.980000\n",
       "75%       515.070000\n",
       "max      1354.220000\n",
       "Name: duration, dtype: float64"
      ]
     },
     "execution_count": 43,
     "metadata": {},
     "output_type": "execute_result"
    }
   ],
   "source": [
    "for_smart['duration'].describe()"
   ]
  },
  {
   "cell_type": "code",
   "execution_count": 44,
   "metadata": {},
   "outputs": [
    {
     "data": {
      "text/plain": [
       "count     985.000000\n",
       "mean      497.068223\n",
       "std       299.904152\n",
       "min         0.000000\n",
       "25%       267.750000\n",
       "50%       488.100000\n",
       "75%       711.470000\n",
       "max      1578.060000\n",
       "Name: duration, dtype: float64"
      ]
     },
     "execution_count": 44,
     "metadata": {},
     "output_type": "execute_result"
    }
   ],
   "source": [
    "for_ultra['duration'].describe()"
   ]
  },
  {
   "cell_type": "code",
   "execution_count": 45,
   "metadata": {},
   "outputs": [
    {
     "data": {
      "image/png": "[encoded data removed]",
      "text/plain": [
       "<Figure size 900x576 with 4 Axes>"
      ]
     },
     "metadata": {
      "needs_background": "light"
     },
     "output_type": "display_data"
    }
   ],
   "source": [
    "plt.subplot(2,2,1)\n",
    "comparison_describe('messages_counts')\n",
    "plt.subplot(2,2,2)\n",
    "comparison_describe('mb_used')\n",
    "plt.subplot(2,2,3)\n",
    "comparison_describe('calls_counts')\n",
    "plt.subplot(2,2,4)\n",
    "comparison_describe('duration')"
   ]
  },
  {
   "cell_type": "markdown",
   "metadata": {},
   "source": [
    "<H5> Для 'messages_counts': </H5> характерен пик для обоих тарифов в нуле, и второй в районе 30, далее следует убывающий хвост, который для тарифа <b>'smart'</b> доходит до 143, а для <b>'ultra'</b> до 224."
   ]
  },
  {
   "cell_type": "markdown",
   "metadata": {},
   "source": [
    "<H5> Для 'mb_used': </H5> распределения для обоих тарифов схожи с нормальными распределениями, среднее примерно равно медиане; у <b>'smarta'</b> это среднее 16200 у <b>'ultra'</b> - 19300. Распределение тарифа <b>'ultra'</b> более \"сплюснут\" к оси х, из за высокого станлартного отклонения."
   ]
  },
  {
   "cell_type": "markdown",
   "metadata": {},
   "source": [
    "<H5> Для 'duration': </H5> для <b>'smarta'</b> характерно распределение похожее на нормальное, с максимальным значением около 400, но с длинным хвостом, доходящим до 1354. Для тарифа <b>'ultra'</b> ситуация похожая, распределение напомиинает нормальное, но из-за высокого стандартного отклонения более сплюснутый, имеет длинный хвост до 1578 и 2 пика, из-за которых распределение нельзя назвать нормальным: пик в 0 и в районе 800. Среднее значение близко к медиане и равно 497."
   ]
  },
  {
   "cell_type": "markdown",
   "metadata": {},
   "source": [
    "<H5> Для 'calls_counts': </H5> распределние очень схоже с <b>'duration'</b>. Вычислим корреляцию:"
   ]
  },
  {
   "cell_type": "code",
   "execution_count": 46,
   "metadata": {},
   "outputs": [
    {
     "data": {
      "text/plain": [
       "0.9795655908098367"
      ]
     },
     "execution_count": 46,
     "metadata": {},
     "output_type": "execute_result"
    }
   ],
   "source": [
    "data.corr()['duration']['calls_counts'] "
   ]
  },
  {
   "cell_type": "markdown",
   "metadata": {},
   "source": [
    "#### Вывод:  \n",
    "мы выяснили числовые характеристики минут разговора, количества сообщений и объёма интернет-трафика для пользователей каждого тарифа в месяц - по всем позициям тариф <b>'ultra'</b> имеет большее среднее значение и дисперсию. Построили гистограммы распределения и описали их"
   ]
  },
  {
   "cell_type": "markdown",
   "metadata": {},
   "source": [
    "### Шаг 4. Проверьте гипотезы\n",
    "<u1> \n",
    "<li> средняя выручка пользователей тарифов «Ультра» и «Смарт» различается; </li>\n",
    "<li> средняя выручка пользователей из Москвы отличается от выручки пользователей из других регионов;.</li>\n",
    "</u1>"
   ]
  },
  {
   "cell_type": "markdown",
   "metadata": {},
   "source": [
    "<b> Сформулируем первую нулевую гипотезу:</b> средняя выручка пользователей тарифов «Ультра» и «Смарт» равна;<br>\n",
    "<b> Альтернативная гипотеза:</b> средняя выручка пользователей тарифов «Ультра» и «Смарт» различна; <br>\n",
    "Проверяем:"
   ]
  },
  {
   "cell_type": "markdown",
   "metadata": {},
   "source": [
    "Подключим необходимые библиотеки, построим гистограму распределения и найдём средние:"
   ]
  },
  {
   "cell_type": "code",
   "execution_count": 47,
   "metadata": {},
   "outputs": [
    {
     "data": {
      "image/png": "[encoded data removed]",
      "text/plain": [
       "<Figure size 900x576 with 1 Axes>"
      ]
     },
     "metadata": {
      "needs_background": "light"
     },
     "output_type": "display_data"
    }
   ],
   "source": [
    "comparison_describe('user_revenue')"
   ]
  },
  {
   "cell_type": "code",
   "execution_count": 48,
   "metadata": {},
   "outputs": [
    {
     "data": {
      "text/plain": [
       "1257.5886047554957"
      ]
     },
     "execution_count": 48,
     "metadata": {},
     "output_type": "execute_result"
    }
   ],
   "source": [
    "for_smart['user_revenue'].describe()['mean']"
   ]
  },
  {
   "cell_type": "code",
   "execution_count": 49,
   "metadata": {
    "scrolled": true
   },
   "outputs": [
    {
     "data": {
      "text/plain": [
       "2070.1522842639592"
      ]
     },
     "execution_count": 49,
     "metadata": {},
     "output_type": "execute_result"
    }
   ],
   "source": [
    "for_ultra['user_revenue'].describe()['mean']"
   ]
  },
  {
   "cell_type": "markdown",
   "metadata": {},
   "source": [
    "Проведём т-тест и выясним справедливость гипотезы (пороговое значение альфа = 0.05:"
   ]
  },
  {
   "cell_type": "code",
   "execution_count": 50,
   "metadata": {},
   "outputs": [
    {
     "name": "stdout",
     "output_type": "stream",
     "text": [
      "p-значение: 6.179723168444486e-274\n",
      "Отвергаем нулевую гипотезу\n"
     ]
    }
   ],
   "source": [
    "from scipy import stats as st\n",
    "for_smart_sample = for_smart['user_revenue']\n",
    "for_ultra_sample = for_ultra['user_revenue']\n",
    "alpha = .001\n",
    "results = st.ttest_ind(\n",
    "    for_smart_sample, \n",
    "    for_ultra_sample, equal_var = False)\n",
    "print('p-значение:', results.pvalue)\n",
    "if (results.pvalue < alpha):\n",
    "    print(\"Отвергаем нулевую гипотезу\")\n",
    "else:\n",
    "    print(\"Не получилось отвергнуть нулевую гипотезу\")"
   ]
  },
  {
   "cell_type": "markdown",
   "metadata": {},
   "source": [
    "Для выбранного уровня значимости нулевая гипотеза отвергнута -> <b>средняя выручка пользователей разных тарифов не равна. </b> p-значение оказалось настолько малым, что даже если многократно уменьшить пороговое значение результат не изменится"
   ]
  },
  {
   "cell_type": "markdown",
   "metadata": {},
   "source": [
    "<b> Сформулируем нулевую гипотезу для второго случая:</b> средняя выручка пользователей из Москвы равна выручке пользователей из других регионов;<br>\n",
    "<b> Альтернативная гипотеза:</b> средняя выручка пользователей из Москвы отличается от выручки пользователей из других регионов; <br>\n",
    "Проверяем:"
   ]
  },
  {
   "cell_type": "markdown",
   "metadata": {},
   "source": [
    "Сделаем сводные таблицы для Москвы и регионов, узнаем с помощью метода describe() средние значения для Москвы и регионов."
   ]
  },
  {
   "cell_type": "code",
   "execution_count": 51,
   "metadata": {},
   "outputs": [
    {
     "data": {
      "text/plain": [
       "1634.257425422602"
      ]
     },
     "execution_count": 51,
     "metadata": {},
     "output_type": "execute_result"
    }
   ],
   "source": [
    "for_moscow = data[data ['city'] =='москва']['user_revenue']\n",
    "for_regions = data[data ['city'] !='москва']['user_revenue']\n",
    "for_moscow.describe().mean()"
   ]
  },
  {
   "cell_type": "code",
   "execution_count": 52,
   "metadata": {},
   "outputs": [
    {
     "data": {
      "text/plain": [
       "2035.9878530872775"
      ]
     },
     "execution_count": 52,
     "metadata": {},
     "output_type": "execute_result"
    }
   ],
   "source": [
    "for_regions.describe().mean()"
   ]
  },
  {
   "cell_type": "code",
   "execution_count": 53,
   "metadata": {},
   "outputs": [
    {
     "data": {
      "image/png": "[encoded data removed]",
      "text/plain": [
       "<Figure size 720x360 with 1 Axes>"
      ]
     },
     "metadata": {
      "needs_background": "light"
     },
     "output_type": "display_data"
    }
   ],
   "source": [
    "st = 'Распределение по выручке'\n",
    "for_moscow.plot(label = 'Москва', kind ='hist', legend ='Москва', grid = True, alpha = 0.5, figsize = (10,5), bins = 50);\n",
    "for_regions.plot(label = 'Регионы',  kind ='hist', legend ='Регионы', grid = True, alpha = 0.5 , title = st, bins = 50);"
   ]
  },
  {
   "cell_type": "markdown",
   "metadata": {},
   "source": [
    "Проведём т-тест и выясним справедливость гипотезы:"
   ]
  },
  {
   "cell_type": "code",
   "execution_count": 54,
   "metadata": {},
   "outputs": [
    {
     "name": "stdout",
     "output_type": "stream",
     "text": [
      "p-значение: 0.46532858228722906\n",
      "Не получилось отвергнуть нулевую гипотезу\n"
     ]
    }
   ],
   "source": [
    "#Почему-то заново нужно подключать библиотеку -_-\n",
    "from scipy import stats as st\n",
    "alpha = .05\n",
    "results = st.ttest_ind(\n",
    "    for_moscow, \n",
    "    for_regions, equal_var = False)\n",
    "print('p-значение:', results.pvalue)\n",
    "if (results.pvalue < alpha):\n",
    "    print(\"Отвергаем нулевую гипотезу\")\n",
    "else:\n",
    "    print(\"Не получилось отвергнуть нулевую гипотезу\")"
   ]
  },
  {
   "cell_type": "markdown",
   "metadata": {},
   "source": [
    "Полученное значение p-value говорит о том, что хотя средняя выручка пользователей из Москвы и регионов неодинакова, с вероятностью в 46,5% такое или большее различие можно получить случайно. Это явно слишком большая вероятность, чтобы делать вывод о значимом различии между средними выручками. "
   ]
  },
  {
   "cell_type": "markdown",
   "metadata": {},
   "source": [
    "#### Вывод:\n",
    "мы проверили статистические гипотезу о разности средних выручек для пользователей разных тарифов и разных регионов, оказалось, что среедняя выручка разных тарифов различается (у тарифа 'ultra' она значимо больше), а для Москвы и регионов мы выяснили, что с вероятностью 46.5% различие в средней выручке можно получить случайно, что не даёт нам право отвергнуть нулевую гипотезу в пользу альтернативной, а значит мы не исключаем, что выручка от Московских пользователей и от пользователей регионов равна."
   ]
  },
  {
   "cell_type": "markdown",
   "metadata": {},
   "source": [
    "### Шаг 5. Напишите общий вывод"
   ]
  },
  {
   "cell_type": "markdown",
   "metadata": {},
   "source": [
    "### Вывод:"
   ]
  },
  {
   "cell_type": "markdown",
   "metadata": {},
   "source": [
    "<li> Мы открыли файлы, содержащие информацию о звонках, сообщениях, потреблении интернет-трафика, тариффах и пользователях 'Мегалайна'. Выяснили ошибки в датафреймах: несоответствующий типы данных, пропуски;\n",
    "<li> Изменили все несоответствующие типы данных (object -> datetime64[ns]), удалили лишний столбец и, на всякий случай, привели строчные атрибуты к нижнему регистру;\n",
    "<li> Изменили название столбца 'id' в разных датафреймах, чтобы не запутаться и добавим столбец с месяцем для каждой метрики, 'вычленив' его из даты;\n",
    "<li> Свели звонки, сообщения и интернет в одну таблицу, затем добавили к ней информацию о пользователях и тарифных планах;\n",
    "<li> Заполнили пропуски в 'calls_counts','duration', 'mb_used',  'messages_counts' нулями, churn_date не заполняем;\n",
    "<li> Посчитали выручку для каждого пользователя и внесли её в общую таблицу;\n",
    "<li> Описали сколько минут разговора, сколько сообщений и какой объём интернет-трафика требуется пользователям каждого тарифа в месяц. Посчитали среднее количество, дисперсию и стандартное отклонение. Построили гистограммы. Описали распределения. Выяснили, что по всем позициям тариф 'ultra' имеет большее среднее значение и дисперсию. Большая часть гистограмм напоминает нормальное распределение, с отклонениями от него в виде хвостов вправо и/или лишних пиковых значений;\n",
    "<li> Исходя из схожести графиков, предполагая их сходство, вычислили корреляцию между 'duration' и 'calls_counts', она оказалась чуть меньше 98%;\n",
    "<li> Проверили статистические гипотезу о разности средних выручек для пользователей разных тарифов и разных регионов, оказалось, что среедняя выручка разных тарифов различается (у тарифа 'ultra' она значимо больше);\n",
    "<li> Проверили статистические гипотезу о разности выручек для Московских пользователей и региональных. Выяснили, что с вероятностью 46.5% различие в средней выручке можно получить случайно, что не даёт нам право отвергнуть нулевую гипотезу в пользу альтернативной. Выручка от Московских пользователей и от пользователей регионов равна."
   ]
  }
 ],
 "metadata": {
  "kernelspec": {
   "display_name": "Python 3",
   "language": "python",
   "name": "python3"
  },
  "language_info": {
   "codemirror_mode": {
    "name": "ipython",
    "version": 3
   },
   "file_extension": ".py",
   "mimetype": "text/x-python",
   "name": "python",
   "nbconvert_exporter": "python",
   "pygments_lexer": "ipython3",
   "version": "3.7.6"
  }
 },
 "nbformat": 4,
 "nbformat_minor": 2
}
